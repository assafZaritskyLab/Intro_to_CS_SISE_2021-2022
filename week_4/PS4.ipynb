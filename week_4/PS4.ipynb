{
 "cells": [
  {
   "cell_type": "markdown",
   "metadata": {},
   "source": [
    "# Mutable vs Immutable"
   ]
  },
  {
   "cell_type": "code",
   "execution_count": 1,
   "metadata": {},
   "outputs": [
    {
     "data": {
      "text/plain": [
       "3"
      ]
     },
     "execution_count": 1,
     "metadata": {},
     "output_type": "execute_result"
    }
   ],
   "source": [
    "a_list=[1,2,3]\n",
    "a_list[2]"
   ]
  },
  {
   "cell_type": "code",
   "execution_count": 2,
   "metadata": {},
   "outputs": [
    {
     "data": {
      "text/plain": [
       "[1, 2, 'Inigo montoya']"
      ]
     },
     "execution_count": 2,
     "metadata": {},
     "output_type": "execute_result"
    }
   ],
   "source": [
    "a_list[2]='Inigo montoya'\n",
    "a_list"
   ]
  },
  {
   "cell_type": "code",
   "execution_count": 3,
   "metadata": {},
   "outputs": [],
   "source": [
    "name='Inigo montoya'"
   ]
  },
  {
   "cell_type": "code",
   "execution_count": 4,
   "metadata": {},
   "outputs": [
    {
     "name": "stdout",
     "output_type": "stream",
     "text": [
      "I\n"
     ]
    }
   ],
   "source": [
    "print(name[0])"
   ]
  },
  {
   "cell_type": "code",
   "execution_count": 5,
   "metadata": {},
   "outputs": [
    {
     "name": "stdout",
     "output_type": "stream",
     "text": [
      " \n"
     ]
    }
   ],
   "source": [
    "print(name[5])"
   ]
  },
  {
   "cell_type": "code",
   "execution_count": 6,
   "metadata": {},
   "outputs": [
    {
     "ename": "TypeError",
     "evalue": "'str' object does not support item assignment",
     "output_type": "error",
     "traceback": [
      "\u001b[1;31m---------------------------------------------------------------------------\u001b[0m",
      "\u001b[1;31mTypeError\u001b[0m                                 Traceback (most recent call last)",
      "\u001b[1;32m<ipython-input-6-7d694c50486c>\u001b[0m in \u001b[0;36m<module>\u001b[1;34m\u001b[0m\n\u001b[1;32m----> 1\u001b[1;33m \u001b[0mname\u001b[0m\u001b[1;33m[\u001b[0m\u001b[1;36m3\u001b[0m\u001b[1;33m]\u001b[0m\u001b[1;33m=\u001b[0m\u001b[1;34m't'\u001b[0m\u001b[1;33m\u001b[0m\u001b[1;33m\u001b[0m\u001b[0m\n\u001b[0m",
      "\u001b[1;31mTypeError\u001b[0m: 'str' object does not support item assignment"
     ]
    }
   ],
   "source": [
    "name[3]='t'"
   ]
  },
  {
   "cell_type": "markdown",
   "metadata": {},
   "source": [
    "### Question 1 - Remove duplicates from a list"
   ]
  },
  {
   "cell_type": "code",
   "execution_count": 7,
   "metadata": {},
   "outputs": [
    {
     "data": {
      "text/plain": [
       "[1, 2, 3]"
      ]
     },
     "execution_count": 7,
     "metadata": {},
     "output_type": "execute_result"
    }
   ],
   "source": [
    "def remove_duplicates_v1(x):\n",
    "    \"\"\"\n",
    "    \n",
    "    Return a new list without duplicates\n",
    "    \n",
    "    :param x: a list of elements.\n",
    "    :return: A list without duplicated elements\n",
    "    \"\"\"\n",
    "    seen_elements = []\n",
    "    for elem in x:\n",
    "        if elem not in seen_elements:\n",
    "            seen_elements.append(elem)\n",
    "    return seen_elements\n",
    "\n",
    "remove_duplicates_v1([1,1,1,2,2,2,3,1])"
   ]
  },
  {
   "cell_type": "markdown",
   "metadata": {},
   "source": [
    "### Question 1 - Remove duplicates in-place - A Buggy solution"
   ]
  },
  {
   "cell_type": "code",
   "execution_count": 8,
   "metadata": {},
   "outputs": [
    {
     "name": "stdout",
     "output_type": "stream",
     "text": [
      "[1, 1, 1, 2, 2, 2, 3, 1]\n",
      "[1, 1, 1, 2, 2, 2, 3, 1]\n"
     ]
    }
   ],
   "source": [
    "def remove_duplicates_v2(x):\n",
    "    \"\"\"\n",
    "    \n",
    "    Remove duplicates in-place.\n",
    "    \n",
    "    :param x: a list of elements.\n",
    "    :return: \n",
    "    \"\"\"\n",
    "    seen_elements = []\n",
    "    for elem in x:\n",
    "        if elem not in seen_elements:\n",
    "            seen_elements.append(elem)\n",
    "    x = seen_elements\n",
    "    \n",
    "li = [1,1,1,2,2,2,3,1]\n",
    "print(li)\n",
    "remove_duplicates_v2(li)\n",
    "print(li)"
   ]
  },
  {
   "cell_type": "markdown",
   "metadata": {},
   "source": [
    "### Question 1 - Remove duplicates in-place - A good solution"
   ]
  },
  {
   "cell_type": "code",
   "execution_count": 9,
   "metadata": {},
   "outputs": [
    {
     "name": "stdout",
     "output_type": "stream",
     "text": [
      "[1, 1, 1, 2, 2, 2, 3, 1]\n",
      "[1, 2, 3]\n"
     ]
    }
   ],
   "source": [
    "def remove_duplicates_v2(x):\n",
    "    \"\"\"\n",
    "    \n",
    "    Remove duplicates in-place\n",
    "    \n",
    "    :param x: a list of elements.\n",
    "    :return: A list without duplicated elements\n",
    "    \"\"\"\n",
    "    seen_elements = []\n",
    "    i=-1\n",
    "    while i<len(x)-1:\n",
    "        i = i + 1\n",
    "        if x[i] not in seen_elements:\n",
    "            seen_elements.append(x[i])\n",
    "        else:\n",
    "            x.pop(i)\n",
    "            i = i-1\n",
    "\n",
    "            \n",
    "        \n",
    "    \n",
    "li1 = [1,1,1,2,2,2,3,1]\n",
    "# li1 = [1,2,1,2,1,2,1,2]\n",
    "# li1 = [1,2,3,4]\n",
    "print(li1)\n",
    "remove_duplicates_v2(li1)\n",
    "print(li1)"
   ]
  },
  {
   "cell_type": "markdown",
   "metadata": {},
   "source": [
    "# Tuples"
   ]
  },
  {
   "cell_type": "markdown",
   "metadata": {},
   "source": [
    "### Tuples are faster to create"
   ]
  },
  {
   "cell_type": "code",
   "execution_count": 10,
   "metadata": {},
   "outputs": [
    {
     "name": "stdout",
     "output_type": "stream",
     "text": [
      "11.4 s ± 390 ms per loop (mean ± std. dev. of 7 runs, 1 loop each)\n"
     ]
    }
   ],
   "source": [
    "\n",
    "%timeit tuple(x for x in range(100000000))\n"
   ]
  },
  {
   "cell_type": "code",
   "execution_count": 11,
   "metadata": {},
   "outputs": [
    {
     "name": "stdout",
     "output_type": "stream",
     "text": [
      "14.5 s ± 1.04 s per loop (mean ± std. dev. of 7 runs, 1 loop each)\n"
     ]
    }
   ],
   "source": [
    "%timeit list(x for x in range(100000000))\n"
   ]
  },
  {
   "cell_type": "code",
   "execution_count": 12,
   "metadata": {},
   "outputs": [
    {
     "data": {
      "text/plain": [
       "(\"don't\", 'worry', 'be', 'happy')"
      ]
     },
     "execution_count": 12,
     "metadata": {},
     "output_type": "execute_result"
    }
   ],
   "source": [
    "t=(\"don't\",'worry','be','happy')\n",
    "t"
   ]
  },
  {
   "cell_type": "code",
   "execution_count": 13,
   "metadata": {},
   "outputs": [
    {
     "data": {
      "text/plain": [
       "\"don't\""
      ]
     },
     "execution_count": 13,
     "metadata": {},
     "output_type": "execute_result"
    }
   ],
   "source": [
    "t[0]"
   ]
  },
  {
   "cell_type": "code",
   "execution_count": 14,
   "metadata": {},
   "outputs": [
    {
     "data": {
      "text/plain": [
       "'happy'"
      ]
     },
     "execution_count": 14,
     "metadata": {},
     "output_type": "execute_result"
    }
   ],
   "source": [
    "t[-1]"
   ]
  },
  {
   "cell_type": "code",
   "execution_count": 15,
   "metadata": {},
   "outputs": [
    {
     "data": {
      "text/plain": [
       "('worry', 'be')"
      ]
     },
     "execution_count": 15,
     "metadata": {},
     "output_type": "execute_result"
    }
   ],
   "source": [
    "t[1:3]"
   ]
  },
  {
   "cell_type": "markdown",
   "metadata": {},
   "source": [
    "# Dictionaries"
   ]
  },
  {
   "cell_type": "code",
   "execution_count": 36,
   "metadata": {},
   "outputs": [
    {
     "ename": "TypeError",
     "evalue": "unhashable type: 'list'",
     "output_type": "error",
     "traceback": [
      "\u001b[1;31m---------------------------------------------------------------------------\u001b[0m",
      "\u001b[1;31mTypeError\u001b[0m                                 Traceback (most recent call last)",
      "\u001b[1;32m<ipython-input-36-af8804470d58>\u001b[0m in \u001b[0;36m<module>\u001b[1;34m\u001b[0m\n\u001b[0;32m      1\u001b[0m \u001b[0ma\u001b[0m\u001b[1;33m=\u001b[0m\u001b[1;33m{\u001b[0m\u001b[1;33m}\u001b[0m\u001b[1;33m\u001b[0m\u001b[1;33m\u001b[0m\u001b[0m\n\u001b[1;32m----> 2\u001b[1;33m \u001b[0ma\u001b[0m\u001b[1;33m[\u001b[0m\u001b[1;33m(\u001b[0m\u001b[1;36m1\u001b[0m\u001b[1;33m,\u001b[0m\u001b[1;36m2\u001b[0m\u001b[1;33m,\u001b[0m\u001b[1;36m3\u001b[0m\u001b[1;33m,\u001b[0m\u001b[1;33m[\u001b[0m\u001b[1;36m1\u001b[0m\u001b[1;33m,\u001b[0m\u001b[1;36m2\u001b[0m\u001b[1;33m]\u001b[0m\u001b[1;33m)\u001b[0m\u001b[1;33m]\u001b[0m \u001b[1;33m=\u001b[0m \u001b[1;34m\"something\"\u001b[0m\u001b[1;33m\u001b[0m\u001b[1;33m\u001b[0m\u001b[0m\n\u001b[0m",
      "\u001b[1;31mTypeError\u001b[0m: unhashable type: 'list'"
     ]
    }
   ],
   "source": [
    "a={}\n",
    "a[(1,2,3,[1,2])] = \"something\""
   ]
  },
  {
   "cell_type": "code",
   "execution_count": 20,
   "metadata": {},
   "outputs": [],
   "source": [
    "d = {\"uriel\": 47, \"yael\": 44, \"yuval\": 13.5, \"amir\": 12, \"ori\": 6, \"dubi\": [9, 63]}"
   ]
  },
  {
   "cell_type": "code",
   "execution_count": 21,
   "metadata": {},
   "outputs": [
    {
     "name": "stdout",
     "output_type": "stream",
     "text": [
      "{'uriel': 47, 'yael': 44, 'yuval': 13.5, 'amir': 12, 'ori': 6, 'dubi': [9, 63]}\n",
      "<class 'dict'>\n"
     ]
    }
   ],
   "source": [
    "print(d)\n",
    "print(type(d))"
   ]
  },
  {
   "cell_type": "code",
   "execution_count": 22,
   "metadata": {},
   "outputs": [
    {
     "name": "stdout",
     "output_type": "stream",
     "text": [
      "47\n"
     ]
    }
   ],
   "source": [
    "print(d[\"uriel\"])"
   ]
  },
  {
   "cell_type": "code",
   "execution_count": 23,
   "metadata": {},
   "outputs": [
    {
     "ename": "KeyError",
     "evalue": "'Uriel'",
     "output_type": "error",
     "traceback": [
      "\u001b[1;31m---------------------------------------------------------------------------\u001b[0m",
      "\u001b[1;31mKeyError\u001b[0m                                  Traceback (most recent call last)",
      "\u001b[1;32m<ipython-input-23-7fd4a0f4563e>\u001b[0m in \u001b[0;36m<module>\u001b[1;34m\u001b[0m\n\u001b[1;32m----> 1\u001b[1;33m \u001b[0mprint\u001b[0m\u001b[1;33m(\u001b[0m\u001b[0md\u001b[0m\u001b[1;33m[\u001b[0m\u001b[1;34m\"Uriel\"\u001b[0m\u001b[1;33m]\u001b[0m\u001b[1;33m)\u001b[0m\u001b[1;33m\u001b[0m\u001b[1;33m\u001b[0m\u001b[0m\n\u001b[0m",
      "\u001b[1;31mKeyError\u001b[0m: 'Uriel'"
     ]
    }
   ],
   "source": [
    "print(d[\"Uriel\"])"
   ]
  },
  {
   "cell_type": "code",
   "execution_count": 24,
   "metadata": {},
   "outputs": [
    {
     "name": "stdout",
     "output_type": "stream",
     "text": [
      "None\n"
     ]
    }
   ],
   "source": [
    "print(d.get(\"Uriel\"))"
   ]
  },
  {
   "cell_type": "code",
   "execution_count": 25,
   "metadata": {},
   "outputs": [
    {
     "name": "stdout",
     "output_type": "stream",
     "text": [
      "Default!!!!\n"
     ]
    }
   ],
   "source": [
    "print(d.get(\"Uriel\",\"Default!!!!\"))"
   ]
  },
  {
   "cell_type": "code",
   "execution_count": 26,
   "metadata": {},
   "outputs": [
    {
     "name": "stdout",
     "output_type": "stream",
     "text": [
      "dict_keys(['uriel', 'yael', 'yuval', 'amir', 'ori', 'dubi'])\n"
     ]
    }
   ],
   "source": [
    "print(d.keys())"
   ]
  },
  {
   "cell_type": "code",
   "execution_count": 27,
   "metadata": {},
   "outputs": [
    {
     "name": "stdout",
     "output_type": "stream",
     "text": [
      "dict_items([('uriel', 47), ('yael', 44), ('yuval', 13.5), ('amir', 12), ('ori', 6), ('dubi', [9, 63])])\n"
     ]
    }
   ],
   "source": [
    "print(d.items())"
   ]
  },
  {
   "cell_type": "markdown",
   "metadata": {},
   "source": [
    "#### Question 2 - Sparse matrix"
   ]
  },
  {
   "cell_type": "code",
   "execution_count": 28,
   "metadata": {},
   "outputs": [
    {
     "data": {
      "text/plain": [
       "{(0, 2): 3, (1, 0): 4, (2, 1): 6}"
      ]
     },
     "execution_count": 28,
     "metadata": {},
     "output_type": "execute_result"
    }
   ],
   "source": [
    "def get_sparse_matrix(matrix):\n",
    "    \"\"\"\n",
    "    :matrix: An NxN matrix implemented using list of lists.\n",
    "    :return: A dictionary with tuples as keys for the non-zero entrences in the matrix, and the value is the non-zero value\n",
    "    \n",
    "    \"\"\"\n",
    "    ans = {}\n",
    "    for i in range(len(matrix)):\n",
    "        for j in range(len(matrix[i])):\n",
    "            if matrix[i][j] != 0:\n",
    "                ans[(i,j)] = matrix[i][j]\n",
    "    return ans\n",
    "\n",
    "li = [[0,0,3],[4,0,0],[0,6,0]]\n",
    "get_sparse_matrix(li)"
   ]
  },
  {
   "cell_type": "markdown",
   "metadata": {},
   "source": [
    "### Question 3 - Students and grades"
   ]
  },
  {
   "cell_type": "code",
   "execution_count": 29,
   "metadata": {},
   "outputs": [
    {
     "data": {
      "text/plain": [
       "[['yael', 87], ['yuval', 88], ['amir', 100]]"
      ]
     },
     "execution_count": 29,
     "metadata": {},
     "output_type": "execute_result"
    }
   ],
   "source": [
    "students = [[\"yael\",87], [\"yuval\",88], [\"amir\",100]]\n",
    "students                                "
   ]
  },
  {
   "cell_type": "code",
   "execution_count": 30,
   "metadata": {},
   "outputs": [
    {
     "ename": "SyntaxError",
     "evalue": "invalid syntax (<ipython-input-30-582789000c12>, line 1)",
     "output_type": "error",
     "traceback": [
      "\u001b[1;36m  File \u001b[1;32m\"<ipython-input-30-582789000c12>\"\u001b[1;36m, line \u001b[1;32m1\u001b[0m\n\u001b[1;33m    students = (\"yael\" : 87, \"yuval\" : 88, \"amir\" : 100)\u001b[0m\n\u001b[1;37m                       ^\u001b[0m\n\u001b[1;31mSyntaxError\u001b[0m\u001b[1;31m:\u001b[0m invalid syntax\n"
     ]
    }
   ],
   "source": [
    "students = (\"yael\" : 87, \"yuval\" : 88, \"amir\" : 100)"
   ]
  },
  {
   "cell_type": "code",
   "execution_count": 31,
   "metadata": {},
   "outputs": [
    {
     "ename": "SyntaxError",
     "evalue": "invalid syntax (<ipython-input-31-c512e9100edd>, line 1)",
     "output_type": "error",
     "traceback": [
      "\u001b[1;36m  File \u001b[1;32m\"<ipython-input-31-c512e9100edd>\"\u001b[1;36m, line \u001b[1;32m1\u001b[0m\n\u001b[1;33m    students = [\"yael\" : 87, \"yuval\" : 88, \"amir\" : 100]\u001b[0m\n\u001b[1;37m                       ^\u001b[0m\n\u001b[1;31mSyntaxError\u001b[0m\u001b[1;31m:\u001b[0m invalid syntax\n"
     ]
    }
   ],
   "source": [
    "students = [\"yael\" : 87, \"yuval\" : 88, \"amir\" : 100]"
   ]
  },
  {
   "cell_type": "code",
   "execution_count": 32,
   "metadata": {},
   "outputs": [],
   "source": [
    "students = {\"yael\" : 87, \"yuval\" : 88, \"amir\" : 100}"
   ]
  },
  {
   "cell_type": "code",
   "execution_count": 33,
   "metadata": {},
   "outputs": [
    {
     "ename": "SyntaxError",
     "evalue": "invalid syntax (<ipython-input-33-32944dd02b95>, line 1)",
     "output_type": "error",
     "traceback": [
      "\u001b[1;36m  File \u001b[1;32m\"<ipython-input-33-32944dd02b95>\"\u001b[1;36m, line \u001b[1;32m1\u001b[0m\n\u001b[1;33m    students = {(\"yael\" : 87), (\"yuval\" : 88), (\"amir\" : 100)}\u001b[0m\n\u001b[1;37m                        ^\u001b[0m\n\u001b[1;31mSyntaxError\u001b[0m\u001b[1;31m:\u001b[0m invalid syntax\n"
     ]
    }
   ],
   "source": [
    "students = {(\"yael\" : 87), (\"yuval\" : 88), (\"amir\" : 100)}"
   ]
  },
  {
   "cell_type": "code",
   "execution_count": 34,
   "metadata": {},
   "outputs": [
    {
     "name": "stdout",
     "output_type": "stream",
     "text": [
      "87\n",
      "87\n"
     ]
    }
   ],
   "source": [
    "students_l = [[\"yael\",87], [\"yuval\",88], [\"amir\",100]]\n",
    "students_d = {\"yael\":87, \"yuval\" : 88, \"amir\" : 100}\n",
    "\n",
    "\n",
    "def get_grade_l(students, name):\n",
    "    \"\"\"students is a nested list, name is a string\"\"\"\n",
    "    for stud in students:\n",
    "        if stud[0] == name:\n",
    "            return stud[1]\n",
    "\n",
    "\n",
    "def get_grade_d(students, name):\n",
    "    \"\"\"students is a dictionary, name is a string\"\"\"\n",
    "    return students[name]\n",
    "\n",
    "\n",
    "print(get_grade_l(students_l, 'yael'))\n",
    "print(get_grade_d(students_d, 'yael'))"
   ]
  },
  {
   "cell_type": "markdown",
   "metadata": {},
   "source": [
    "### Question 3 - Pangrams"
   ]
  },
  {
   "cell_type": "code",
   "execution_count": 48,
   "metadata": {},
   "outputs": [
    {
     "name": "stdout",
     "output_type": "stream",
     "text": [
      "True\n",
      "False\n"
     ]
    }
   ],
   "source": [
    "def is_pangram(s):\n",
    "    d = {}\n",
    "    for char in s:\n",
    "        if char.isalpha():\n",
    "            d[char.lower()]=True\n",
    "    return (len(d.keys())==26) \n",
    "\n",
    "\n",
    "s = \" The quick brown fox jumps over the lazy dog\"\n",
    "print(is_pangram(s))\n",
    "s = \" The quick fox jumps over the lazy dog\"\n",
    "print(is_pangram(s))\n"
   ]
  },
  {
   "cell_type": "markdown",
   "metadata": {},
   "source": [
    "### Question 4 - 2 dices"
   ]
  },
  {
   "cell_type": "code",
   "execution_count": 49,
   "metadata": {},
   "outputs": [
    {
     "name": "stdout",
     "output_type": "stream",
     "text": [
      "2: 2%\n",
      "3: 5%\n",
      "4: 8%\n",
      "5: 11%\n",
      "6: 13%\n",
      "7: 16%\n",
      "8: 13%\n",
      "9: 11%\n",
      "10: 8%\n",
      "11: 5%\n",
      "12: 2%\n"
     ]
    }
   ],
   "source": [
    "rolls = {}\n",
    "for dice1 in range(1, 7):   \t# first die\n",
    "    for dice2 in range(1, 7): \t# second die\n",
    "        newTuple = (dice1, dice2)\n",
    "        total = dice1 + dice2\n",
    "        combinations = rolls.get(total, []) # existing list\n",
    "        combinations.append(newTuple)\n",
    "        rolls[total] = combinations\n",
    "\n",
    "for total, dice in rolls.items():# print result\n",
    "    percentage = len( dice )/36.0\n",
    "    print(f\"{total}: {int(100*(percentage))}%\")\n"
   ]
  },
  {
   "cell_type": "code",
   "execution_count": 52,
   "metadata": {},
   "outputs": [
    {
     "name": "stdout",
     "output_type": "stream",
     "text": [
      "mamasandthepapas\n",
      "what a bend.\n"
     ]
    }
   ],
   "source": [
    "x = [\"mamas\",\"and\",\"the\",\"papas\",\"\\n\",\"what a bend.\"]\n",
    "print(\"\".join(x))"
   ]
  },
  {
   "cell_type": "code",
   "execution_count": 53,
   "metadata": {},
   "outputs": [
    {
     "data": {
      "text/plain": [
       "{2: [(1, 1)],\n",
       " 3: [(1, 2), (2, 1)],\n",
       " 4: [(1, 3), (2, 2), (3, 1)],\n",
       " 5: [(1, 4), (2, 3), (3, 2), (4, 1)],\n",
       " 6: [(1, 5), (2, 4), (3, 3), (4, 2), (5, 1)],\n",
       " 7: [(1, 6), (2, 5), (3, 4), (4, 3), (5, 2), (6, 1)],\n",
       " 8: [(2, 6), (3, 5), (4, 4), (5, 3), (6, 2)],\n",
       " 9: [(3, 6), (4, 5), (5, 4), (6, 3)],\n",
       " 10: [(4, 6), (5, 5), (6, 4)],\n",
       " 11: [(5, 6), (6, 5)],\n",
       " 12: [(6, 6)]}"
      ]
     },
     "execution_count": 53,
     "metadata": {},
     "output_type": "execute_result"
    }
   ],
   "source": [
    "rolls"
   ]
  },
  {
   "cell_type": "markdown",
   "metadata": {},
   "source": [
    "##### Question 5 - Spell Checker"
   ]
  },
  {
   "cell_type": "code",
   "execution_count": 54,
   "metadata": {},
   "outputs": [
    {
     "name": "stdout",
     "output_type": "stream",
     "text": [
      "here we are in the center of the town\n"
     ]
    }
   ],
   "source": [
    "def init_dict(known_words):\n",
    "    dic = {}\n",
    "    for word in known_words:\n",
    "        dic[word] = word\n",
    "    return dic\n",
    "\n",
    "def add_corrections(spell_check_dict, rules):\n",
    "    corrections = []\n",
    "    for word in spell_check_dict.keys():\n",
    "        for rule in rules:\n",
    "            corrections.append(spelling_errors(word,rule))\n",
    "    corrections = sum(corrections,[])\n",
    "    spell_check_dict.update(corrections)\n",
    "\n",
    "def spelling_errors(word,rule):\n",
    "    # word is a string\n",
    "    # Rule is a tupple (letter1, letter2)\n",
    "    \n",
    "    pairs = []\n",
    "    for i in range(len(word)):\n",
    "        if word[i] == rule[0]:# If letter1 found\n",
    "            bad_word = word[0:i] + rule[1] + word[i+1:] # Change to letter2\n",
    "            subtitution = (bad_word, word)\n",
    "            pairs.append(subtitution)\n",
    "    \n",
    "    return pairs\n",
    "\n",
    "def correct_spelling(text, dic):\n",
    "    corrected_words = []\n",
    "    for word in text.split(\" \"):\n",
    "        corrected_words.append(dic[word])\n",
    "    return \" \".join(corrected_words)\n",
    "\n",
    "known_words = ['the', 'in', 'of', 'center', 'we', 'here', 'are', 'town']\n",
    "rules = [ ('e','r'), ('e','w'), ('a','s'), ('o','p') ]\n",
    "dic = init_dict(known_words)\n",
    "add_corrections(dic, rules)\n",
    "text = 'hwre ww sre in thr centrr pf thw tpwn'\n",
    "print(correct_spelling(text, dic))\n"
   ]
  },
  {
   "cell_type": "markdown",
   "metadata": {},
   "source": [
    "##### Did you know?"
   ]
  },
  {
   "cell_type": "code",
   "execution_count": 55,
   "metadata": {},
   "outputs": [
    {
     "name": "stdout",
     "output_type": "stream",
     "text": [
      "(7, 1)\n",
      "<class 'tuple'>\n"
     ]
    }
   ],
   "source": [
    "def div_with_portion_and_reminder(num, div):\n",
    "    \"\"\"num and div are positive integers\"\"\"\n",
    "    return num // div, num % div\n",
    "\n",
    "\n",
    "res = div_with_portion_and_reminder(50, 7)\n",
    "print(res)\n",
    "print(type(res))"
   ]
  },
  {
   "cell_type": "code",
   "execution_count": null,
   "metadata": {},
   "outputs": [],
   "source": []
  }
 ],
 "metadata": {
  "kernelspec": {
   "display_name": "Python 3",
   "language": "python",
   "name": "python3"
  },
  "language_info": {
   "codemirror_mode": {
    "name": "ipython",
    "version": 3
   },
   "file_extension": ".py",
   "mimetype": "text/x-python",
   "name": "python",
   "nbconvert_exporter": "python",
   "pygments_lexer": "ipython3",
   "version": "3.7.1"
  }
 },
 "nbformat": 4,
 "nbformat_minor": 2
}
