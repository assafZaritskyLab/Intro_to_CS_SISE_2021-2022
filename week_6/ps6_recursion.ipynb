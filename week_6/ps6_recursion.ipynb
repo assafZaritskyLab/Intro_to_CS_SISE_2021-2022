{
 "cells": [
  {
   "cell_type": "markdown",
   "metadata": {},
   "source": [
    "# Reccurssion - The empire strikes again"
   ]
  },
  {
   "cell_type": "markdown",
   "metadata": {},
   "source": [
    "## Example 1: Ascending digits number"
   ]
  },
  {
   "cell_type": "code",
   "execution_count": 1,
   "metadata": {},
   "outputs": [
    {
     "name": "stdout",
     "output_type": "stream",
     "text": [
      "False\n",
      "True\n",
      "True\n",
      "False\n"
     ]
    }
   ],
   "source": [
    "def is_ascending_digits(num):\n",
    "    \"\"\"\n",
    "    Determines if a number has only real ascending digits (from the right).\n",
    "    :param num: a positive integer number\n",
    "    :return: true / false\n",
    "    \"\"\"\n",
    "    if num < 10:\n",
    "        return True\n",
    "    if num % 10 >= num // 10 % 10:\n",
    "        return False\n",
    "    return is_ascending_digits(num // 10)\n",
    "\n",
    "print(is_ascending_digits(1942))\n",
    "print(is_ascending_digits(987321))\n",
    "print(is_ascending_digits(1))\n",
    "print(is_ascending_digits(11))"
   ]
  },
  {
   "attachments": {},
   "cell_type": "markdown",
   "metadata": {},
   "source": [
    "## Example 2: Inheritance problem"
   ]
  },
  {
   "cell_type": "code",
   "execution_count": 2,
   "metadata": {},
   "outputs": [
    {
     "name": "stdout",
     "output_type": "stream",
     "text": [
      "True\n",
      "False\n"
     ]
    }
   ],
   "source": [
    "def partition(lst):\n",
    "    return partition_helper(lst, 0, 0)\n",
    "\n",
    "\n",
    "def partition_helper(lst, liora, yosi):\n",
    "    if not lst:\n",
    "        return liora == yosi\n",
    "    return partition_helper(lst[1:], liora + lst[0], yosi) or partition_helper(lst[1:], liora, yosi + lst[0])\n",
    "\n",
    "print(partition([2, 9, 6, 1]))\n",
    "print(partition([2, 9, 6]))\n"
   ]
  },
  {
   "cell_type": "code",
   "execution_count": 7,
   "metadata": {},
   "outputs": [
    {
     "name": "stdout",
     "output_type": "stream",
     "text": [
      "True\n",
      "False\n"
     ]
    }
   ],
   "source": [
    "def partition_memo(lst):\n",
    "    return partition_memo_helper(lst, 0, 0, {})\n",
    "\n",
    "\n",
    "def partition_memo_helper(lst, s1, s2, memo):\n",
    "    if not lst:\n",
    "        return s1 == s2\n",
    "    key = (len(lst), s1, s2)\n",
    "    if key not in memo:\n",
    "        give_Liora = partition_memo_helper(lst[1:], s1 + lst[0], s2, memo)\n",
    "        give_Yosi = partition_memo_helper(lst[1:], s1, lst[0] + s2, memo)\n",
    "        memo[key] = give_Liora or give_Yosi\n",
    "    return memo[key]\n",
    "\n",
    "print(partition([2, 9, 6, 1]))\n",
    "print(partition([2, 9, 6]))"
   ]
  },
  {
   "cell_type": "code",
   "execution_count": 8,
   "metadata": {},
   "outputs": [
    {
     "name": "stdout",
     "output_type": "stream",
     "text": [
      "time it no memo\n",
      "348 µs ± 34.1 µs per loop (mean ± std. dev. of 7 runs, 1000 loops each)\n"
     ]
    }
   ],
   "source": [
    "print(\"time it no memo\")\n",
    "%timeit (partition([9, 1, 1, 1, 1, 1, 1, 1, 1]))"
   ]
  },
  {
   "cell_type": "code",
   "execution_count": 9,
   "metadata": {},
   "outputs": [
    {
     "name": "stdout",
     "output_type": "stream",
     "text": [
      "time it with memo\n",
      "94.8 µs ± 8.71 µs per loop (mean ± std. dev. of 7 runs, 10000 loops each)\n"
     ]
    }
   ],
   "source": [
    "print(\"time it with memo\")\n",
    "%timeit (partition_memo([9, 1, 1, 1, 1, 1, 1, 1, 1]))"
   ]
  },
  {
   "cell_type": "markdown",
   "metadata": {},
   "source": [
    "## Example 3: Choose n of k"
   ]
  },
  {
   "cell_type": "code",
   "execution_count": 17,
   "metadata": {},
   "outputs": [],
   "source": [
    "def choose_no_memo(n, k):\n",
    "    if k==0 or n==k:\n",
    "        return 1\n",
    "    if n < k:\n",
    "        return 0\n",
    "    return choose_no_memo(n - 1, k - 1) + choose_no_memo(n - 1, k)\n"
   ]
  },
  {
   "cell_type": "code",
   "execution_count": 18,
   "metadata": {},
   "outputs": [
    {
     "name": "stdout",
     "output_type": "stream",
     "text": [
      "6\n",
      "4\n",
      "15\n"
     ]
    }
   ],
   "source": [
    "print(choose_no_memo(4, 2))\n",
    "print(choose_no_memo(4, 3))\n",
    "print(choose_no_memo(6, 4))  # (6*5)/(6-4)!"
   ]
  },
  {
   "cell_type": "code",
   "execution_count": 19,
   "metadata": {},
   "outputs": [],
   "source": [
    "def choose_helper(n, k, results_dict):\n",
    "    if k == 0 or n == k:\n",
    "        return 1\n",
    "    if n < k:\n",
    "        return 0\n",
    "    if (n, k) not in results_dict:\n",
    "        results_dict[(n, k)] = choose_helper(n - 1, k - 1, results_dict) + choose_helper(n - 1, k, results_dict)\n",
    "    return results_dict[(n, k)]\n",
    "\n",
    "\n",
    "def choose(n, k):\n",
    "    return choose_helper(n, k, {})"
   ]
  },
  {
   "cell_type": "code",
   "execution_count": 20,
   "metadata": {},
   "outputs": [
    {
     "name": "stdout",
     "output_type": "stream",
     "text": [
      "6\n",
      "4\n",
      "15\n"
     ]
    }
   ],
   "source": [
    "print(choose_no_memo(4, 2))\n",
    "print(choose_no_memo(4, 3))\n",
    "print(choose_no_memo(6, 4))  # (6*5)/(6-4)!"
   ]
  },
  {
   "cell_type": "code",
   "execution_count": 21,
   "metadata": {},
   "outputs": [
    {
     "name": "stdout",
     "output_type": "stream",
     "text": [
      "time with no memo:\n",
      "6.51 µs ± 573 ns per loop (mean ± std. dev. of 7 runs, 100000 loops each)\n"
     ]
    }
   ],
   "source": [
    "print(\"time with no memo:\")\n",
    "%timeit (choose_no_memo(6,2))"
   ]
  },
  {
   "cell_type": "code",
   "execution_count": 22,
   "metadata": {},
   "outputs": [
    {
     "name": "stdout",
     "output_type": "stream",
     "text": [
      "time with memo:\n",
      "8.58 µs ± 858 ns per loop (mean ± std. dev. of 7 runs, 100000 loops each)\n"
     ]
    }
   ],
   "source": [
    "print(\"time with memo:\")\n",
    "%timeit (choose(6,2))\n"
   ]
  },
  {
   "cell_type": "markdown",
   "metadata": {},
   "source": [
    "## Example 4: Maze solver"
   ]
  },
  {
   "cell_type": "code",
   "execution_count": 23,
   "metadata": {},
   "outputs": [],
   "source": [
    "def is_valid(grid, neighbor):  # neighbor[0]=row index, neighbor[1]=col index\n",
    "    return 0 <= neighbor[0] < len(grid) and \\\n",
    "           0 <= neighbor[1] < len(grid[neighbor[0]]) \\\n",
    "           and (grid[neighbor[0]][neighbor[1]] == 1 or grid[neighbor[0]][neighbor[1]] == 2)\n",
    "\n",
    "def solve_maze_rec(grid, initial_point, goal_point, solution_path):\n",
    "    grid[initial_point[0]][initial_point[1]] = 3  # mark as a visited\n",
    "    if initial_point == goal_point:  # solution found\n",
    "        solution_path.insert(0, goal_point)\n",
    "        return True\n",
    "    row = initial_point[0]\n",
    "    col = initial_point[1]\n",
    "    if is_valid(grid, (row - 1, col)) and solve_maze_rec(grid, (row - 1, col), goal_point, solution_path):\n",
    "        solution_path.insert(0, (row - 1, col))\n",
    "        return True\n",
    "    if is_valid(grid, (row + 1, col)) and solve_maze_rec(grid, (row + 1, col), goal_point, solution_path):\n",
    "        solution_path.insert(0, (row + 1, col))\n",
    "        return True\n",
    "    if is_valid(grid, (row, col - 1)) and solve_maze_rec(grid, (row, col - 1), goal_point, solution_path):\n",
    "        solution_path.insert(0, (row, col - 1))\n",
    "        return True\n",
    "    if is_valid(grid, (row, col + 1)) and solve_maze_rec(grid, (row, col + 1), goal_point, solution_path):\n",
    "        solution_path.insert(0, (row, col + 1))\n",
    "        return True\n",
    "    return False\n",
    "\n",
    "\n",
    "def solve_maze(grid, initial_point, goal_point):\n",
    "    solution = []\n",
    "    b = solve_maze_rec(grid, initial_point, goal_point, solution)\n",
    "    print(b, solution)"
   ]
  },
  {
   "cell_type": "code",
   "execution_count": 26,
   "metadata": {},
   "outputs": [
    {
     "name": "stdout",
     "output_type": "stream",
     "text": [
      "With no solution:\n",
      "None\n",
      "[3, 3, 3, 0, 3, 3, 0, 0, 0, 3, 3, 3, 3]\n",
      "[3, 0, 3, 3, 3, 0, 3, 3, 3, 3, 0, 0, 3]\n",
      "[0, 0, 0, 0, 3, 0, 3, 0, 3, 0, 3, 0, 0]\n",
      "[3, 3, 3, 0, 3, 3, 3, 0, 3, 0, 3, 3, 3]\n",
      "[3, 0, 3, 0, 0, 0, 0, 3, 3, 3, 0, 0, 3]\n",
      "[3, 0, 3, 3, 3, 3, 3, 3, 0, 3, 3, 3, 3]\n",
      "[3, 0, 0, 0, 0, 0, 0, 0, 0, 0, 0, 0, 0]\n",
      "[3, 3, 3, 3, 3, 3, 3, 3, 3, 0, 1, 1, 2]\n"
     ]
    }
   ],
   "source": [
    "n_sol = [[1, 1, 1, 0, 1, 1, 0, 0, 0, 1, 1, 1, 1],\n",
    "         [1, 0, 1, 1, 1, 0, 1, 1, 1, 1, 0, 0, 1],\n",
    "         [0, 0, 0, 0, 1, 0, 1, 0, 1, 0, 1, 0, 0],\n",
    "         [1, 1, 1, 0, 1, 1, 1, 0, 1, 0, 1, 1, 1],\n",
    "         [1, 0, 1, 0, 0, 0, 0, 1, 1, 1, 0, 0, 1],\n",
    "         [1, 0, 1, 1, 1, 1, 1, 1, 0, 1, 1, 1, 1],\n",
    "         [1, 0, 0, 0, 0, 0, 0, 0, 0, 0, 0, 0, 0],\n",
    "         [1, 1, 1, 1, 1, 1, 1, 1, 1, 0, 1, 1, 2]]\n",
    "print(\"With no solution:\")\n",
    "print(solve_maze(n_sol, (0, 2), (7, 12)))\n",
    "for i in n_sol:\n",
    "    print(i)"
   ]
  },
  {
   "cell_type": "code",
   "execution_count": 28,
   "metadata": {},
   "outputs": [
    {
     "name": "stdout",
     "output_type": "stream",
     "text": [
      "With solution:\n",
      "[(1, 2), (1, 3), (1, 4), (2, 4), (3, 4), (3, 5), (3, 6), (2, 6), (1, 6), (1, 7), (1, 8), (2, 8), (3, 8), (4, 8), (4, 7), (5, 7), (5, 6), (5, 5), (5, 4), (5, 3), (5, 2), (4, 2), (3, 2), (3, 1), (3, 0), (4, 0), (5, 0), (6, 0), (7, 0), (7, 1), (7, 2), (7, 3), (7, 4), (7, 5), (7, 6), (7, 7), (7, 8), (7, 9), (7, 10), (7, 11), (7, 12), (7, 12)]\n",
      "[1, 1, 3, 0, 3, 3, 0, 0, 0, 1, 1, 1, 1]\n",
      "[1, 0, 3, 3, 3, 0, 3, 3, 3, 1, 0, 0, 1]\n",
      "[0, 0, 0, 0, 3, 0, 3, 0, 3, 0, 1, 0, 0]\n",
      "[3, 3, 3, 0, 3, 3, 3, 0, 3, 0, 1, 1, 1]\n",
      "[3, 0, 3, 0, 0, 0, 0, 3, 3, 1, 0, 0, 1]\n",
      "[3, 1, 3, 3, 3, 3, 3, 3, 0, 1, 1, 1, 1]\n",
      "[3, 0, 0, 0, 0, 0, 0, 0, 0, 0, 0, 0, 0]\n",
      "[3, 3, 3, 3, 3, 3, 3, 3, 3, 3, 3, 3, 3]\n"
     ]
    }
   ],
   "source": [
    "y_sol = [[1, 1, 1, 0, 1, 1, 0, 0, 0, 1, 1, 1, 1],\n",
    "         [1, 0, 1, 1, 1, 0, 1, 1, 1, 1, 0, 0, 1],\n",
    "         [0, 0, 0, 0, 1, 0, 1, 0, 1, 0, 1, 0, 0],\n",
    "         [1, 1, 1, 0, 1, 1, 1, 0, 1, 0, 1, 1, 1],\n",
    "         [1, 0, 1, 0, 0, 0, 0, 1, 1, 1, 0, 0, 1],\n",
    "         [1, 1, 1, 1, 1, 1, 1, 1, 0, 1, 1, 1, 1],\n",
    "         [1, 0, 0, 0, 0, 0, 0, 0, 0, 0, 0, 0, 0],\n",
    "         [1, 1, 1, 1, 1, 1, 1, 1, 1, 1, 1, 1, 2]]\n",
    "\n",
    "print(\"With solution:\")\n",
    "solve_maze(y_sol, (0, 2), (7, 12))\n",
    "for i in y_sol:\n",
    "    print(i)\n",
    "\n"
   ]
  },
  {
   "cell_type": "markdown",
   "metadata": {},
   "source": [
    "## Example 5: Insertion sort"
   ]
  },
  {
   "cell_type": "code",
   "execution_count": 29,
   "metadata": {},
   "outputs": [],
   "source": [
    "def insertion_sort(lst):\n",
    "    for i in range(1, len(lst)):  # Traverse through 1 to len(lst)\n",
    "        value = lst[i]\n",
    "        j = i - 1\n",
    "        # move elements of lst[0…i-1], that are greater than value\n",
    "        while j >= 0 and lst[j] > value:\n",
    "            lst[j + 1] = lst[j]\n",
    "            j -= 1\n",
    "        lst[j + 1] = value  # assign the value to appropriate cell in the list"
   ]
  },
  {
   "cell_type": "code",
   "execution_count": 29,
   "metadata": {},
   "outputs": [],
   "source": [
    "def insertion_sort(lst):\n",
    "    for i in range(1, len(lst)):  # Traverse through 1 to len(lst)\n",
    "        value = lst[i]\n",
    "        j = i - 1\n",
    "        # move elements of lst[0…i-1], that are greater than value\n",
    "        while j >= 0 and lst[j] > value:\n",
    "            lst[j + 1] = lst[j]\n",
    "            j -= 1\n",
    "        lst[j + 1] = value  # assign the value to appropriate cell in the list"
   ]
  },
  {
   "cell_type": "code",
   "execution_count": 30,
   "metadata": {},
   "outputs": [
    {
     "name": "stdout",
     "output_type": "stream",
     "text": [
      "[4, 1, 7, 2, 19, -10]\n",
      "[-10, 1, 2, 4, 7, 19]\n"
     ]
    }
   ],
   "source": [
    "ls = [4, 1, 7, 2, 19, -10]\n",
    "print(ls)\n",
    "insertion_sort(ls)\n",
    "print(ls)"
   ]
  },
  {
   "cell_type": "markdown",
   "metadata": {},
   "source": [
    "## Example 6: Merge sort"
   ]
  },
  {
   "cell_type": "code",
   "execution_count": 43,
   "metadata": {},
   "outputs": [],
   "source": [
    "def merge(l1, l2):\n",
    "    \"\"\"\n",
    "    Merging 2 sorted lists into one sorted list - O(n1)+O(n2)\n",
    "    :param l1: sorted list, not changing.\n",
    "    :param l2: sorted list, not changing.\n",
    "    :return: sorted list with all members of l1 and l2\n",
    "    \"\"\"\n",
    "    res = []\n",
    "    i1 = 0\n",
    "    i2 = 0\n",
    "    while i1 < len(l1) and i2 < len(l2):\n",
    "        if l1[i1] < l2[i2]:  # adding the smallest\n",
    "            res.append(l1[i1])\n",
    "            i1 += 1\n",
    "        else:\n",
    "            res.append(l2[i2])\n",
    "            i2 += 1\n",
    "    res += l1[i1:] + l2[i2:]  # adding the rest of the list unhandled\n",
    "    return res\n",
    "\n",
    "\n",
    "def merge_sort(lst):\n",
    "    \"\"\"\n",
    "    Sorting a list with O(log2(n))\n",
    "    :param lst: a (probably) unsorted list\n",
    "    :return: a sorted list\n",
    "    \"\"\"\n",
    "    n = len(lst)\n",
    "    if n <= 1:\n",
    "        return lst\n",
    "    return merge(merge_sort(lst[0:n // 2]), merge_sort(lst[n // 2:n]))\n",
    "    # two recursive calls, both half's of the list"
   ]
  },
  {
   "cell_type": "code",
   "execution_count": 44,
   "metadata": {},
   "outputs": [
    {
     "name": "stdout",
     "output_type": "stream",
     "text": [
      "[4, 1, 7, 2, 19, -10]\n",
      "[-10, 1, 2, 4, 7, 19]\n"
     ]
    }
   ],
   "source": [
    "ls = [4, 1, 7, 2, 19, -10]\n",
    "print(ls)\n",
    "ls=merge_sort(ls)"
   ]
  },
  {
   "cell_type": "markdown",
   "metadata": {},
   "source": [
    "## Example 7: Complexity"
   ]
  },
  {
   "cell_type": "code",
   "execution_count": 56,
   "metadata": {},
   "outputs": [
    {
     "name": "stdout",
     "output_type": "stream",
     "text": [
      "[1000, 999, 998, 997, 996, 995, 994, 993, 992, 991, 990, 989, 988, 987, 986, 985, 984, 983, 982, 981, 980, 979, 978, 977, 976, 975, 974, 973, 972, 971, 970, 969, 968, 967, 966, 965, 964, 963, 962, 961, 960, 959, 958, 957, 956, 955, 954, 953, 952, 951, 950, 949, 948, 947, 946, 945, 944, 943, 942, 941, 940, 939, 938, 937, 936, 935, 934, 933, 932, 931, 930, 929, 928, 927, 926, 925, 924, 923, 922, 921, 920, 919, 918, 917, 916, 915, 914, 913, 912, 911, 910, 909, 908, 907, 906, 905, 904, 903, 902, 901, 900, 899, 898, 897, 896, 895, 894, 893, 892, 891, 890, 889, 888, 887, 886, 885, 884, 883, 882, 881, 880, 879, 878, 877, 876, 875, 874, 873, 872, 871, 870, 869, 868, 867, 866, 865, 864, 863, 862, 861, 860, 859, 858, 857, 856, 855, 854, 853, 852, 851, 850, 849, 848, 847, 846, 845, 844, 843, 842, 841, 840, 839, 838, 837, 836, 835, 834, 833, 832, 831, 830, 829, 828, 827, 826, 825, 824, 823, 822, 821, 820, 819, 818, 817, 816, 815, 814, 813, 812, 811, 810, 809, 808, 807, 806, 805, 804, 803, 802, 801, 800, 799, 798, 797, 796, 795, 794, 793, 792, 791, 790, 789, 788, 787, 786, 785, 784, 783, 782, 781, 780, 779, 778, 777, 776, 775, 774, 773, 772, 771, 770, 769, 768, 767, 766, 765, 764, 763, 762, 761, 760, 759, 758, 757, 756, 755, 754, 753, 752, 751, 750, 749, 748, 747, 746, 745, 744, 743, 742, 741, 740, 739, 738, 737, 736, 735, 734, 733, 732, 731, 730, 729, 728, 727, 726, 725, 724, 723, 722, 721, 720, 719, 718, 717, 716, 715, 714, 713, 712, 711, 710, 709, 708, 707, 706, 705, 704, 703, 702, 701, 700, 699, 698, 697, 696, 695, 694, 693, 692, 691, 690, 689, 688, 687, 686, 685, 684, 683, 682, 681, 680, 679, 678, 677, 676, 675, 674, 673, 672, 671, 670, 669, 668, 667, 666, 665, 664, 663, 662, 661, 660, 659, 658, 657, 656, 655, 654, 653, 652, 651, 650, 649, 648, 647, 646, 645, 644, 643, 642, 641, 640, 639, 638, 637, 636, 635, 634, 633, 632, 631, 630, 629, 628, 627, 626, 625, 624, 623, 622, 621, 620, 619, 618, 617, 616, 615, 614, 613, 612, 611, 610, 609, 608, 607, 606, 605, 604, 603, 602, 601, 600, 599, 598, 597, 596, 595, 594, 593, 592, 591, 590, 589, 588, 587, 586, 585, 584, 583, 582, 581, 580, 579, 578, 577, 576, 575, 574, 573, 572, 571, 570, 569, 568, 567, 566, 565, 564, 563, 562, 561, 560, 559, 558, 557, 556, 555, 554, 553, 552, 551, 550, 549, 548, 547, 546, 545, 544, 543, 542, 541, 540, 539, 538, 537, 536, 535, 534, 533, 532, 531, 530, 529, 528, 527, 526, 525, 524, 523, 522, 521, 520, 519, 518, 517, 516, 515, 514, 513, 512, 511, 510, 509, 508, 507, 506, 505, 504, 503, 502, 501, 500, 499, 498, 497, 496, 495, 494, 493, 492, 491, 490, 489, 488, 487, 486, 485, 484, 483, 482, 481, 480, 479, 478, 477, 476, 475, 474, 473, 472, 471, 470, 469, 468, 467, 466, 465, 464, 463, 462, 461, 460, 459, 458, 457, 456, 455, 454, 453, 452, 451, 450, 449, 448, 447, 446, 445, 444, 443, 442, 441, 440, 439, 438, 437, 436, 435, 434, 433, 432, 431, 430, 429, 428, 427, 426, 425, 424, 423, 422, 421, 420, 419, 418, 417, 416, 415, 414, 413, 412, 411, 410, 409, 408, 407, 406, 405, 404, 403, 402, 401, 400, 399, 398, 397, 396, 395, 394, 393, 392, 391, 390, 389, 388, 387, 386, 385, 384, 383, 382, 381, 380, 379, 378, 377, 376, 375, 374, 373, 372, 371, 370, 369, 368, 367, 366, 365, 364, 363, 362, 361, 360, 359, 358, 357, 356, 355, 354, 353, 352, 351, 350, 349, 348, 347, 346, 345, 344, 343, 342, 341, 340, 339, 338, 337, 336, 335, 334, 333, 332, 331, 330, 329, 328, 327, 326, 325, 324, 323, 322, 321, 320, 319, 318, 317, 316, 315, 314, 313, 312, 311, 310, 309, 308, 307, 306, 305, 304, 303, 302, 301, 300, 299, 298, 297, 296, 295, 294, 293, 292, 291, 290, 289, 288, 287, 286, 285, 284, 283, 282, 281, 280, 279, 278, 277, 276, 275, 274, 273, 272, 271, 270, 269, 268, 267, 266, 265, 264, 263, 262, 261, 260, 259, 258, 257, 256, 255, 254, 253, 252, 251, 250, 249, 248, 247, 246, 245, 244, 243, 242, 241, 240, 239, 238, 237, 236, 235, 234, 233, 232, 231, 230, 229, 228, 227, 226, 225, 224, 223, 222, 221, 220, 219, 218, 217, 216, 215, 214, 213, 212, 211, 210, 209, 208, 207, 206, 205, 204, 203, 202, 201, 200, 199, 198, 197, 196, 195, 194, 193, 192, 191, 190, 189, 188, 187, 186, 185, 184, 183, 182, 181, 180, 179, 178, 177, 176, 175, 174, 173, 172, 171, 170, 169, 168, 167, 166, 165, 164, 163, 162, 161, 160, 159, 158, 157, 156, 155, 154, 153, 152, 151, 150, 149, 148, 147, 146, 145, 144, 143, 142, 141, 140, 139, 138, 137, 136, 135, 134, 133, 132, 131, 130, 129, 128, 127, 126, 125, 124, 123, 122, 121, 120, 119, 118, 117, 116, 115, 114, 113, 112, 111, 110, 109, 108, 107, 106, 105, 104, 103, 102, 101, 100, 99, 98, 97, 96, 95, 94, 93, 92, 91, 90, 89, 88, 87, 86, 85, 84, 83, 82, 81, 80, 79, 78, 77, 76, 75, 74, 73, 72, 71, 70, 69, 68, 67, 66, 65, 64, 63, 62, 61, 60, 59, 58, 57, 56, 55, 54, 53, 52, 51, 50, 49, 48, 47, 46, 45, 44, 43, 42, 41, 40, 39, 38, 37, 36, 35, 34, 33, 32, 31, 30, 29, 28, 27, 26, 25, 24, 23, 22, 21, 20, 19, 18, 17, 16, 15, 14, 13, 12, 11, 10, 9, 8, 7, 6, 5, 4, 3, 2, 1, 0]\n"
     ]
    }
   ],
   "source": [
    "l1=list(range(1000,-1,-1))\n",
    "print(l1)"
   ]
  },
  {
   "cell_type": "code",
   "execution_count": 59,
   "metadata": {},
   "outputs": [
    {
     "name": "stdout",
     "output_type": "stream",
     "text": [
      "2.8 ms ± 1.08 ms per loop (mean ± std. dev. of 7 runs, 1 loop each)\n"
     ]
    }
   ],
   "source": [
    "%timeit (insertion_sort(l1))"
   ]
  },
  {
   "cell_type": "code",
   "execution_count": 60,
   "metadata": {},
   "outputs": [
    {
     "name": "stdout",
     "output_type": "stream",
     "text": [
      "46.1 ms ± 4.66 ms per loop (mean ± std. dev. of 7 runs, 10 loops each)\n"
     ]
    }
   ],
   "source": [
    "l1=list(range(10000,-1,-1))\n",
    "%timeit (merge_sort(l1))"
   ]
  }
 ],
 "metadata": {
  "kernelspec": {
   "display_name": "Python 3",
   "language": "python",
   "name": "python3"
  },
  "language_info": {
   "codemirror_mode": {
    "name": "ipython",
    "version": 3
   },
   "file_extension": ".py",
   "mimetype": "text/x-python",
   "name": "python",
   "nbconvert_exporter": "python",
   "pygments_lexer": "ipython3",
   "version": "3.7.1"
  }
 },
 "nbformat": 4,
 "nbformat_minor": 2
}
