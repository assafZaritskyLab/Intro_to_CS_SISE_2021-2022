{
 "cells": [
  {
   "cell_type": "markdown",
   "metadata": {
    "id": "eysRRwMeDiIF"
   },
   "source": [
    "# Conditional Statements"
   ]
  },
  {
   "cell_type": "markdown",
   "metadata": {
    "id": "oiwF3bMZDiIH"
   },
   "source": [
    "### Example #1: Determine whether two numbers have the same  reminder by 7"
   ]
  },
  {
   "cell_type": "markdown",
   "metadata": {},
   "source": [
    "#### if statement"
   ]
  },
  {
   "cell_type": "code",
   "execution_count": null,
   "metadata": {
    "id": "WTpdMvA3DiIJ"
   },
   "outputs": [],
   "source": [
    "a = int(input(\"Please insert an integer number: \"))\n",
    "b = int(input(\"Please insert another integer number: \"))\n",
    "if a % 7 == b % 7:  # compare between the reminders\n",
    "    print(\"The numbers have the same reminder by 7\")"
   ]
  },
  {
   "cell_type": "markdown",
   "metadata": {},
   "source": [
    "#### if-else statemet"
   ]
  },
  {
   "cell_type": "code",
   "execution_count": null,
   "metadata": {
    "id": "zrdUdQu2DiIU"
   },
   "outputs": [],
   "source": [
    "a = int(input(\"Please insert an integer number: \"))\n",
    "b = int(input(\"Please insert another integer number: \"))\n",
    "if a % 7 == b % 7: # compare between the reminders\n",
    "    print(\"The numbers have the same reminder by 7\")\n",
    "else:\n",
    "    print(\"The numbers have different reminders by 7\")\n"
   ]
  },
  {
   "cell_type": "markdown",
   "metadata": {
    "id": "xT-fDsDaDiIe"
   },
   "source": [
    "### Example #2: Classify the type of triangle from given 3 sides lengths."
   ]
  },
  {
   "cell_type": "markdown",
   "metadata": {},
   "source": [
    "#### if-elif-else statement"
   ]
  },
  {
   "cell_type": "code",
   "execution_count": null,
   "metadata": {
    "id": "aIcbhJTgDiIh"
   },
   "outputs": [],
   "source": [
    "a = int(input(\"Please insert the first side: \"))\n",
    "b = int(input(\"Please insert the second side: \"))\n",
    "c = int(input(\"Please insert the third side: \"))\n",
    "\n",
    "if a == b == c: # There are all equal\n",
    "    print(\"Equilateral triangle\")\n",
    "elif a == b or a == c or b == c:  # only two equal\n",
    "    print(\"Isosceles triangle\")\n",
    "else: # all three sides have different lengths\n",
    "    print(\"Scalene triangle\")\n"
   ]
  },
  {
   "cell_type": "markdown",
   "metadata": {
    "id": "nSHiPW_0DiIr"
   },
   "source": [
    "### Example #3: Check if number is divisible by 2, 5 or none of them.\n"
   ]
  },
  {
   "cell_type": "markdown",
   "metadata": {},
   "source": [
    "#### nested conditional statement"
   ]
  },
  {
   "cell_type": "code",
   "execution_count": null,
   "metadata": {
    "id": "ZaNeHErIDiIs"
   },
   "outputs": [],
   "source": [
    "n = int(input(\"Please insert an integer number: \"))\n",
    "if n % 2 == 0:\n",
    "    if n % 5 == 0:  # NESTED if\n",
    "        print(n, 'is divisible by 2 and by 5, so also by 10.')\n",
    "    else:  # NESTED else, pertains to NESTED if.\n",
    "        print(n, 'is divisible by 2 but not by 5.')\n",
    "elif n % 5:\n",
    "    print(n, 'is divisible by 5 but not by 2.')\n",
    "else:\n",
    "    print(n, 'is not divisible by 2 and 5.')"
   ]
  },
  {
   "cell_type": "markdown",
   "metadata": {},
   "source": [
    "# lists"
   ]
  },
  {
   "cell_type": "markdown",
   "metadata": {},
   "source": [
    "#### Create empty list"
   ]
  },
  {
   "cell_type": "code",
   "execution_count": null,
   "metadata": {},
   "outputs": [],
   "source": [
    "empty_list = []\n",
    "empty_list = list()\n",
    "\n",
    "empty_list"
   ]
  },
  {
   "cell_type": "markdown",
   "metadata": {},
   "source": [
    "#### Create list with elements"
   ]
  },
  {
   "cell_type": "code",
   "execution_count": 6,
   "metadata": {},
   "outputs": [
    {
     "data": {
      "text/plain": [
       "[1, 2, 3, 4, 5]"
      ]
     },
     "execution_count": 6,
     "metadata": {},
     "output_type": "execute_result"
    }
   ],
   "source": [
    "my_list = [1, 2, 3, 4, 5]\n",
    "my_list"
   ]
  },
  {
   "cell_type": "code",
   "execution_count": 5,
   "metadata": {},
   "outputs": [
    {
     "data": {
      "text/plain": [
       "2"
      ]
     },
     "execution_count": 5,
     "metadata": {},
     "output_type": "execute_result"
    }
   ],
   "source": [
    "my_list[1]"
   ]
  },
  {
   "cell_type": "code",
   "execution_count": null,
   "metadata": {},
   "outputs": [],
   "source": [
    "len(my_list)"
   ]
  },
  {
   "cell_type": "code",
   "execution_count": 8,
   "metadata": {},
   "outputs": [
    {
     "data": {
      "text/plain": [
       "[['David', '0521111222'], ['Yaron', '0523333444']]"
      ]
     },
     "execution_count": 8,
     "metadata": {},
     "output_type": "execute_result"
    }
   ],
   "source": [
    "phone_book = [[\"David\", \"0521111222\"],\n",
    "              [\"Yaron\", \"0523333444\"]]\n",
    "\n",
    "phone_book"
   ]
  },
  {
   "cell_type": "code",
   "execution_count": 9,
   "metadata": {},
   "outputs": [
    {
     "data": {
      "text/plain": [
       "2"
      ]
     },
     "execution_count": 9,
     "metadata": {},
     "output_type": "execute_result"
    }
   ],
   "source": [
    "len(phone_book)"
   ]
  },
  {
   "cell_type": "code",
   "execution_count": 10,
   "metadata": {},
   "outputs": [
    {
     "data": {
      "text/plain": [
       "['David', '0521111222']"
      ]
     },
     "execution_count": 10,
     "metadata": {},
     "output_type": "execute_result"
    }
   ],
   "source": [
    "phone_book[0]"
   ]
  },
  {
   "cell_type": "code",
   "execution_count": 12,
   "metadata": {},
   "outputs": [
    {
     "data": {
      "text/plain": [
       "[1, '2', ['David', '0521111222']]"
      ]
     },
     "execution_count": 12,
     "metadata": {},
     "output_type": "execute_result"
    }
   ],
   "source": [
    "any_types_list = [1, \"2\", [\"David\", \"0521111222\"]]\n",
    "any_types_list"
   ]
  },
  {
   "cell_type": "code",
   "execution_count": 15,
   "metadata": {},
   "outputs": [
    {
     "name": "stdout",
     "output_type": "stream",
     "text": [
      "The type of index-0 is:  <class 'int'>\n",
      "The type of index-1 is:  <class 'str'>\n",
      "The type of index-2 is:  <class 'list'>\n"
     ]
    }
   ],
   "source": [
    "print('The type of index-0 is: ', type(any_types_list[0]))\n",
    "print('The type of index-1 is: ', type(any_types_list[1]))\n",
    "print('The type of index-2 is: ', type(any_types_list[2]))"
   ]
  },
  {
   "cell_type": "code",
   "execution_count": 16,
   "metadata": {},
   "outputs": [
    {
     "data": {
      "text/plain": [
       "'0521111222'"
      ]
     },
     "execution_count": 16,
     "metadata": {},
     "output_type": "execute_result"
    }
   ],
   "source": [
    "any_types_list[2][1]"
   ]
  },
  {
   "cell_type": "markdown",
   "metadata": {
    "id": "mlH_tsNKDiIy"
   },
   "source": [
    "# for and while loops"
   ]
  },
  {
   "cell_type": "markdown",
   "metadata": {
    "id": "podUr6UlDiIz"
   },
   "source": [
    "#### Example #4: determine whether a number is prime or not "
   ]
  },
  {
   "cell_type": "code",
   "execution_count": null,
   "metadata": {
    "id": "IZhalUjKDiI0"
   },
   "outputs": [],
   "source": [
    "number = int(input(\"Enter a number larger than 1: \"))\n",
    "is_prime = True  # assuming the number is prime\n",
    "for i in range(2, number):  # check from 2 to number - 1\n",
    "    if number % i == 0: \n",
    "        is_prime = False\n",
    "\n",
    "if is_prime:\n",
    "    print(\"The chosen number is prime\")\n",
    "else:\n",
    "    print(\"The chosen number is not prime\")\n"
   ]
  },
  {
   "cell_type": "markdown",
   "metadata": {},
   "source": [
    "#### print each name in a names list"
   ]
  },
  {
   "cell_type": "code",
   "execution_count": 17,
   "metadata": {},
   "outputs": [
    {
     "name": "stdout",
     "output_type": "stream",
     "text": [
      "Avi\n",
      "Rami\n",
      "Dina\n",
      "Ron\n",
      "Yael\n"
     ]
    }
   ],
   "source": [
    "names_list = [\"Avi\", \"Rami\", \"Dina\", \"Ron\", \"Yael\"]\n",
    "for name in names_list:\n",
    "  print(name)"
   ]
  },
  {
   "cell_type": "markdown",
   "metadata": {
    "id": "hV9yNKU-DiI6"
   },
   "source": [
    "#### Example #5: deleteing spaces using 'continue'  "
   ]
  },
  {
   "cell_type": "code",
   "execution_count": null,
   "metadata": {
    "id": "W3Z_s_WbDiI8"
   },
   "outputs": [],
   "source": [
    "sen = \"Ground control to major Tom\"\n",
    "sen_no_spaces = \"\"\n",
    "for c in sen:\n",
    "    if c.isspace():\n",
    "        continue\n",
    "    sen_no_spaces += c\n",
    "print(sen_no_spaces)\n"
   ]
  },
  {
   "cell_type": "markdown",
   "metadata": {
    "id": "ZDpp47s_DiJD"
   },
   "source": [
    "#### Example #6: check if a string contains a number using 'break'"
   ]
  },
  {
   "cell_type": "code",
   "execution_count": null,
   "metadata": {
    "id": "YHX8M5s9DiJE"
   },
   "outputs": [],
   "source": [
    "is_number = \"ab4cde\"\n",
    "for c in is_number:\n",
    "    if c.isdigit():\n",
    "        print(\"A number was found:\",c)\n",
    "        break \n",
    "    else:\n",
    "        print(\"Found '\" + c + \"' which is not a number!\")\n"
   ]
  },
  {
   "cell_type": "markdown",
   "metadata": {
    "id": "IavD9tWIDiJK"
   },
   "source": [
    "#### Example 7: Greatest common divisor(GCD) of two numbers - naive version"
   ]
  },
  {
   "cell_type": "code",
   "execution_count": 18,
   "metadata": {
    "id": "pruRixZ6DiJL"
   },
   "outputs": [
    {
     "name": "stdout",
     "output_type": "stream",
     "text": [
      "Please insert number: 516\n",
      "Please insert number: 1220\n",
      "The GCD of 516 and 1220 is 4\n"
     ]
    }
   ],
   "source": [
    "a = int(input(\"Please insert number: \"))\n",
    "b = int(input(\"Please insert number: \")) \n",
    "for r in range(a, 0, -1):\n",
    "    if a % r == 0 and b % r == 0:\n",
    "        break\n",
    "print(\"The GCD of\", a, \"and\", b, \"is\", r)\n"
   ]
  },
  {
   "cell_type": "markdown",
   "metadata": {
    "id": "QCKETFtNDiJS"
   },
   "source": [
    "#### Example 8: Greatest common divisor(GCD) of two numbers - Euclidean Algorithm"
   ]
  },
  {
   "cell_type": "code",
   "execution_count": 21,
   "metadata": {
    "id": "3JyT4_3vDiJS"
   },
   "outputs": [
    {
     "name": "stdout",
     "output_type": "stream",
     "text": [
      "Please insert the first number: 516\n",
      "Please insert the second number: 1220\n",
      "The GCD of 516 and 1220 is 4\n"
     ]
    }
   ],
   "source": [
    "a = int(input(\"Please insert the first number: \"))\n",
    "b = int(input(\"Please insert the second number: \")) \n",
    "j = a\n",
    "i = b \n",
    "while i != 0:\n",
    "    reminder = j % i\n",
    "    j = i\n",
    "    i = reminder\n",
    "print(\"The GCD of\", a, \"and\", b, \"is\", j)\n"
   ]
  },
  {
   "cell_type": "markdown",
   "metadata": {
    "id": "6BdzcGc_DiJV"
   },
   "source": [
    "# Nested loops"
   ]
  },
  {
   "cell_type": "markdown",
   "metadata": {
    "id": "_eZxMbhpDiJW"
   },
   "source": [
    "#### Example 9: Longest repeating substring"
   ]
  },
  {
   "cell_type": "code",
   "execution_count": 23,
   "metadata": {
    "id": "wCZqRWg7DiJX"
   },
   "outputs": [
    {
     "name": "stdout",
     "output_type": "stream",
     "text": [
      "Insert the first string abcdefg\n",
      "Insert the second string abcdefg\n",
      "The longest repeating substring =  7\n"
     ]
    }
   ],
   "source": [
    "str_1 = input(\"Insert the first string \")\n",
    "str_2 = input(\"Insert the second string \")\n",
    "len_1= len(str_1)\n",
    "max_common = 0\n",
    "for i in range(len_1):\n",
    "    for j in range(i + 1, len_1 + 1):\n",
    "        if str_1[i: j] in str_2:\n",
    "            if  j - i > max_common:\n",
    "                max_common = j - i \n",
    "print(\"The longest repeating substring = \", max_common)\n"
   ]
  },
  {
   "cell_type": "markdown",
   "metadata": {
    "id": "93ttAvxuDiJa"
   },
   "source": [
    "#### Example 10: create multiplication table"
   ]
  },
  {
   "cell_type": "code",
   "execution_count": 24,
   "metadata": {
    "id": "hnRseOiUDiJa"
   },
   "outputs": [
    {
     "name": "stdout",
     "output_type": "stream",
     "text": [
      "[0, 0, 0, 0, 0, 0, 0, 0, 0, 0, 0]\n",
      "[0, 1, 2, 3, 4, 5, 6, 7, 8, 9, 10]\n",
      "[0, 2, 4, 6, 8, 10, 12, 14, 16, 18, 20]\n",
      "[0, 3, 6, 9, 12, 15, 18, 21, 24, 27, 30]\n",
      "[0, 4, 8, 12, 16, 20, 24, 28, 32, 36, 40]\n",
      "[0, 5, 10, 15, 20, 25, 30, 35, 40, 45, 50]\n",
      "[0, 6, 12, 18, 24, 30, 36, 42, 48, 54, 60]\n",
      "[0, 7, 14, 21, 28, 35, 42, 49, 56, 63, 70]\n",
      "[0, 8, 16, 24, 32, 40, 48, 56, 64, 72, 80]\n",
      "[0, 9, 18, 27, 36, 45, 54, 63, 72, 81, 90]\n",
      "[0, 10, 20, 30, 40, 50, 60, 70, 80, 90, 100]\n"
     ]
    }
   ],
   "source": [
    "multiplication_table = []\n",
    "for i in range(11):\n",
    "    multiplication_table.append([]) \n",
    "    for j in range(11):\n",
    "        multiplication_table[i].append(i * j)\n",
    "\n",
    "for row in multiplication_table:\n",
    "    print(row)"
   ]
  },
  {
   "cell_type": "markdown",
   "metadata": {
    "id": "sUWTVM4pDiJf"
   },
   "source": [
    "#### Example 11: create multiplication table - using list comprehension"
   ]
  },
  {
   "cell_type": "code",
   "execution_count": 25,
   "metadata": {
    "id": "tFY8gkx8DiJh"
   },
   "outputs": [
    {
     "data": {
      "text/plain": [
       "[[0, 0, 0, 0, 0, 0, 0, 0, 0, 0, 0],\n",
       " [0, 1, 2, 3, 4, 5, 6, 7, 8, 9, 10],\n",
       " [0, 2, 4, 6, 8, 10, 12, 14, 16, 18, 20],\n",
       " [0, 3, 6, 9, 12, 15, 18, 21, 24, 27, 30],\n",
       " [0, 4, 8, 12, 16, 20, 24, 28, 32, 36, 40],\n",
       " [0, 5, 10, 15, 20, 25, 30, 35, 40, 45, 50],\n",
       " [0, 6, 12, 18, 24, 30, 36, 42, 48, 54, 60],\n",
       " [0, 7, 14, 21, 28, 35, 42, 49, 56, 63, 70],\n",
       " [0, 8, 16, 24, 32, 40, 48, 56, 64, 72, 80],\n",
       " [0, 9, 18, 27, 36, 45, 54, 63, 72, 81, 90],\n",
       " [0, 10, 20, 30, 40, 50, 60, 70, 80, 90, 100]]"
      ]
     },
     "execution_count": 25,
     "metadata": {},
     "output_type": "execute_result"
    }
   ],
   "source": [
    "mul_table = [[x * y for x in range(11)] for y in range(11)]\n",
    "mul_table"
   ]
  },
  {
   "cell_type": "code",
   "execution_count": null,
   "metadata": {
    "id": "JkOT_Wp8DiJy"
   },
   "outputs": [],
   "source": []
  }
 ],
 "metadata": {
  "colab": {
   "name": "ps_2_code.ipynb",
   "provenance": []
  },
  "kernelspec": {
   "display_name": "Python 3",
   "language": "python",
   "name": "python3"
  },
  "language_info": {
   "codemirror_mode": {
    "name": "ipython",
    "version": 3
   },
   "file_extension": ".py",
   "mimetype": "text/x-python",
   "name": "python",
   "nbconvert_exporter": "python",
   "pygments_lexer": "ipython3",
   "version": "3.8.3"
  }
 },
 "nbformat": 4,
 "nbformat_minor": 1
}