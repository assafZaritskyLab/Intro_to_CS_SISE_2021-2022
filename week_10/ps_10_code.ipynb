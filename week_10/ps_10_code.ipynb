{
 "cells": [
  {
   "cell_type": "markdown",
   "metadata": {},
   "source": [
    "# One liners"
   ]
  },
  {
   "cell_type": "markdown",
   "metadata": {},
   "source": [
    "## Short if"
   ]
  },
  {
   "cell_type": "code",
   "execution_count": null,
   "metadata": {},
   "outputs": [],
   "source": [
    "x=int(input('Enter a number:'))\n",
    "print('Traditional:')\n",
    "if x%2==0:\n",
    "    print(str(x)+' is even.')\n",
    "else:\n",
    "    print(str(x)+' is odd.')\n",
    "print('Short if:')\n",
    "print(str(x)+(' is even.' if x%2==0 else ' is odd.'))"
   ]
  },
  {
   "cell_type": "code",
   "execution_count": null,
   "metadata": {},
   "outputs": [],
   "source": [
    "x=int(input('Enter a number:')) #enter -81\n",
    "print(x**0.5)"
   ]
  },
  {
   "cell_type": "code",
   "execution_count": null,
   "metadata": {},
   "outputs": [],
   "source": [
    "x=int(input('Enter a number:')) #enter -81\n",
    "print(str(x**0.5) if x>=0 else str((-x)**0.5)+'i')"
   ]
  },
  {
   "cell_type": "code",
   "execution_count": null,
   "metadata": {},
   "outputs": [],
   "source": [
    "a=int(input('Enter a:'))\n",
    "b=int(input('Enter b:'))\n",
    "print(str(a)+'='+str(b) if a==b else str(a)+'>'+str(b) if a>b else str(a)+'<'+str(b))"
   ]
  },
  {
   "cell_type": "markdown",
   "metadata": {},
   "source": [
    "## List comprehension"
   ]
  },
  {
   "cell_type": "code",
   "execution_count": null,
   "metadata": {},
   "outputs": [],
   "source": [
    "l1=[x for x in 'sapir']\n",
    "print(l1)"
   ]
  },
  {
   "cell_type": "code",
   "execution_count": null,
   "metadata": {},
   "outputs": [],
   "source": [
    "l1=[x for x in (1,2,3,4)]\n",
    "print(l1)"
   ]
  },
  {
   "cell_type": "code",
   "execution_count": null,
   "metadata": {},
   "outputs": [],
   "source": [
    "l1=[x for x in ('Bgu','here','i','come')]#1st level only!!\n",
    "print(l1)"
   ]
  },
  {
   "cell_type": "code",
   "execution_count": 8,
   "metadata": {},
   "outputs": [
    {
     "name": "stdout",
     "output_type": "stream",
     "text": [
      "['a', 'b']\n"
     ]
    }
   ],
   "source": [
    "d={'a':1,'b':2}\n",
    "l1=[x for x in d] #keys only\n",
    "print(l1)"
   ]
  },
  {
   "cell_type": "code",
   "execution_count": 9,
   "metadata": {},
   "outputs": [
    {
     "name": "stdout",
     "output_type": "stream",
     "text": [
      "[2, 4]\n"
     ]
    }
   ],
   "source": [
    "l1=[x for x in [1,2,3,4] if x%2==0]\n",
    "print(l1)"
   ]
  },
  {
   "cell_type": "code",
   "execution_count": 10,
   "metadata": {},
   "outputs": [
    {
     "name": "stdout",
     "output_type": "stream",
     "text": [
      "['Bgu', 'you']\n"
     ]
    }
   ],
   "source": [
    "l1=[x for x in ('Bgu','for','you') if 'u' in x]\n",
    "print(l1)"
   ]
  },
  {
   "cell_type": "code",
   "execution_count": 11,
   "metadata": {},
   "outputs": [
    {
     "name": "stdout",
     "output_type": "stream",
     "text": [
      "[4]\n",
      "[4]\n"
     ]
    }
   ],
   "source": [
    "l1=[x for x in [1,2,3,4] if x%2==0 if x>3]\n",
    "print(l1)\n",
    "l1=[x for x in [1,2,3,4] if x%2==0 and x>3]\n",
    "print(l1)"
   ]
  },
  {
   "cell_type": "markdown",
   "metadata": {},
   "source": [
    "## Any / All"
   ]
  },
  {
   "cell_type": "code",
   "execution_count": 12,
   "metadata": {},
   "outputs": [
    {
     "name": "stdout",
     "output_type": "stream",
     "text": [
      "any:\n",
      "False\n",
      "True\n",
      "True\n",
      "False\n"
     ]
    }
   ],
   "source": [
    "no_one=[False,False,False]\n",
    "some_ones=[True,False,True]\n",
    "every_one=[True,True,True]\n",
    "empty_one=[]\n",
    "print('any:')\n",
    "print(any(no_one))\n",
    "print(any(some_ones))\n",
    "print(any(every_one))\n",
    "print(any(empty_one))\n"
   ]
  },
  {
   "cell_type": "code",
   "execution_count": 13,
   "metadata": {},
   "outputs": [
    {
     "name": "stdout",
     "output_type": "stream",
     "text": [
      "all:\n",
      "False\n",
      "False\n",
      "True\n",
      "True\n"
     ]
    }
   ],
   "source": [
    "print('all:')\n",
    "print(all(no_one))\n",
    "print(all(some_ones))\n",
    "print(all(every_one))\n",
    "print(all(empty_one))"
   ]
  },
  {
   "cell_type": "markdown",
   "metadata": {},
   "source": [
    "# High ordered functions"
   ]
  },
  {
   "cell_type": "markdown",
   "metadata": {},
   "source": [
    "## Sorted"
   ]
  },
  {
   "cell_type": "code",
   "execution_count": 14,
   "metadata": {},
   "outputs": [
    {
     "name": "stdout",
     "output_type": "stream",
     "text": [
      "[3, 4, 5, 6]\n",
      "[6, 5, 4, 3]\n"
     ]
    }
   ],
   "source": [
    "numbers = [5, 3, 4, 6]\n",
    "print(sorted(numbers))\n",
    "print(sorted(numbers, reverse=True)) # decreasing\n"
   ]
  },
  {
   "cell_type": "code",
   "execution_count": 15,
   "metadata": {},
   "outputs": [
    {
     "name": "stdout",
     "output_type": "stream",
     "text": [
      "['Assaf', 'Yoav', 'Noga']\n",
      "['Assaf', 'Noga', 'Yoav']\n",
      "['Yoav', 'Noga', 'Assaf']\n"
     ]
    }
   ],
   "source": [
    "names = [\"Assaf\", \"Yoav\", \"Noga\"]\n",
    "print(names)\n",
    "print(sorted(names))\n",
    "print(sorted(names, key=len))  # sort by length of string"
   ]
  },
  {
   "cell_type": "code",
   "execution_count": 16,
   "metadata": {},
   "outputs": [
    {
     "name": "stdout",
     "output_type": "stream",
     "text": [
      "Noga\n",
      "f\n"
     ]
    }
   ],
   "source": [
    "def tail(collection): return collection[-1] # one liner!!\n",
    "print(tail(names))\n",
    "print(tail(names[0]))"
   ]
  },
  {
   "cell_type": "code",
   "execution_count": 17,
   "metadata": {},
   "outputs": [
    {
     "name": "stdout",
     "output_type": "stream",
     "text": [
      "['Assaf', 'Yoav', 'Noga']\n",
      "['Noga', 'Assaf', 'Yoav']\n"
     ]
    }
   ],
   "source": [
    "print(names)\n",
    "print(sorted(names, key=tail)) # key is a function"
   ]
  },
  {
   "cell_type": "code",
   "execution_count": 18,
   "metadata": {},
   "outputs": [
    {
     "name": "stdout",
     "output_type": "stream",
     "text": [
      "['Assaf', 'Yoav', 'Noga']\n",
      "['Noga', 'Yoav', 'Assaf']\n"
     ]
    }
   ],
   "source": [
    "def my_comparator(string):return len(string), string\n",
    "print(names)\n",
    "print(sorted(['Yoav', 'Assaf', 'Noga'], key=my_comparator))"
   ]
  },
  {
   "cell_type": "markdown",
   "metadata": {},
   "source": [
    "## Map"
   ]
  },
  {
   "cell_type": "code",
   "execution_count": 19,
   "metadata": {},
   "outputs": [
    {
     "name": "stdout",
     "output_type": "stream",
     "text": [
      "<map object at 0x0000019074B07F98>\n",
      "[0, 1, 8, 27, 64, 125, 216, 343, 512, 729]\n",
      "<class 'map'>\n"
     ]
    }
   ],
   "source": [
    "def cube(x):return x ** 3\n",
    "\n",
    "print(map(cube, range(10)))\n",
    "print(list(map(cube, range(10))))\n",
    "print(type(map(cube, range(10))))"
   ]
  },
  {
   "cell_type": "code",
   "execution_count": 20,
   "metadata": {},
   "outputs": [
    {
     "name": "stdout",
     "output_type": "stream",
     "text": [
      "[172, 172, 175, 188]\n",
      "[70, 80, 90, 82]\n",
      "['Good!', 'Bad!', 'Bad!', 'Good!']\n"
     ]
    }
   ],
   "source": [
    "weights = [70, 80, 90, 82]\n",
    "heights = [172, 172, 175, 188]\n",
    "BMI_res = []\n",
    "for i in range(len(weights)):\n",
    "    height_m = heights[i] / 100\n",
    "    BMI = weights[i] / (height_m ** 2)\n",
    "    BMI_res.append(BMI)\n",
    "    \n",
    "for i in range(len(BMI_res)):\n",
    "    if BMI > 18.5 and BMI_res[i] < 25:\n",
    "        BMI_res[i] = \"Good!\"\n",
    "    else:\n",
    "        BMI_res[i] = \"Bad!\"\n",
    "print(heights)\n",
    "print(weights)\n",
    "print(BMI_res)"
   ]
  },
  {
   "cell_type": "code",
   "execution_count": 21,
   "metadata": {},
   "outputs": [
    {
     "name": "stdout",
     "output_type": "stream",
     "text": [
      "[172, 172, 175, 188]\n",
      "[70, 80, 90, 82]\n",
      "['Good!', 'Bad!', 'Bad!', 'Good!']\n"
     ]
    }
   ],
   "source": [
    "def calc_BMI(weight, height):\n",
    "    height_m = height / 100\n",
    "    return weight / (height_m ** 2)\n",
    "\n",
    "def BMI_result(BMI):\n",
    "    if BMI > 18.5 and BMI < 25:\n",
    "        return \"Good!\"\n",
    "    return \"Bad!\"\n",
    "weights = [70, 80, 90, 82]\n",
    "heights = [172, 172, 175, 188]\n",
    "BMI_res = map(BMI_result, map(calc_BMI, weights, heights))\n",
    "print(heights)\n",
    "print(weights)\n",
    "print(list(BMI_res))"
   ]
  },
  {
   "cell_type": "markdown",
   "metadata": {},
   "source": [
    "## Lazy loading"
   ]
  },
  {
   "cell_type": "code",
   "execution_count": 2,
   "metadata": {},
   "outputs": [
    {
     "name": "stdout",
     "output_type": "stream",
     "text": [
      "[None, None, None]\n",
      "[None, None, None]\n",
      "[]\n"
     ]
    }
   ],
   "source": [
    "def example_4():\n",
    "    l1 = [1, 2, 3]\n",
    "    l2 = []\n",
    "    l2 = list(map(l2.append, l1))\n",
    "    print(l2)\n",
    "\n",
    "def example_4A():\n",
    "    l1 = [1, 2, 3]\n",
    "    l2 = []\n",
    "    l3 = list(map(l2.append, l1))\n",
    "    print(l3)\n",
    "\n",
    "\n",
    "def example_4B():\n",
    "    l1 = [1, 2, 3]\n",
    "    l2 = []\n",
    "    map(l2.append, l1)\n",
    "    print(l2)\n",
    "    \n",
    "example_4()\n",
    "example_4A()\n",
    "example_4B()"
   ]
  },
  {
   "cell_type": "code",
   "execution_count": 23,
   "metadata": {},
   "outputs": [
    {
     "name": "stdout",
     "output_type": "stream",
     "text": [
      "[]\n",
      "[1]\n",
      "[1, 2]\n",
      "[1, 2, 3]\n"
     ]
    }
   ],
   "source": [
    "l1=[1,2,3]\n",
    "l2=[]\n",
    "it=map(l2.append,l1)\n",
    "print(l2)\n",
    "next(it)\n",
    "print(l2)\n",
    "next(it)\n",
    "print(l2)\n",
    "next(it)\n",
    "print(l2)"
   ]
  },
  {
   "cell_type": "markdown",
   "metadata": {},
   "source": [
    "## Filter"
   ]
  },
  {
   "cell_type": "code",
   "execution_count": 24,
   "metadata": {},
   "outputs": [
    {
     "name": "stdout",
     "output_type": "stream",
     "text": [
      "<filter object at 0x0000019074B14710>\n",
      "[55, 82, 47, 95, 88, 68, 99]\n",
      "[82, 95, 88, 99]\n",
      "<class 'filter'>\n"
     ]
    }
   ],
   "source": [
    "def is_above_70(x): return x > 70\n",
    "grades = [55,82,47,95,88,68,99]\n",
    "print(filter(is_above_70, grades))\n",
    "print(grades)\n",
    "print(list(filter(is_above_70, grades)))\n",
    "print(type(filter(is_above_70, grades)))"
   ]
  },
  {
   "cell_type": "code",
   "execution_count": 29,
   "metadata": {},
   "outputs": [
    {
     "name": "stdout",
     "output_type": "stream",
     "text": [
      "[103, -18, 79, 55, 990, 73, 200, 99, 0]\n",
      "[79, 55, 73, 99, 0]\n"
     ]
    }
   ],
   "source": [
    "more_grades=[103,-18,79,55,990,73,200,99,0]\n",
    "def valid_test_grades(grades):return grades>=0 and grades<=100\n",
    "print(more_grades)\n",
    "print(list(filter(valid_test_grades,more_grades)))"
   ]
  },
  {
   "cell_type": "markdown",
   "metadata": {},
   "source": [
    "## Reduce"
   ]
  },
  {
   "cell_type": "code",
   "execution_count": 30,
   "metadata": {},
   "outputs": [
    {
     "name": "stdout",
     "output_type": "stream",
     "text": [
      "55\n",
      "<class 'int'>\n"
     ]
    }
   ],
   "source": [
    "def add_nums(x,y): return x+y\n",
    "print(reduce(add_nums, range(11)))\n",
    "print(type(reduce(add_nums, range(11))))"
   ]
  },
  {
   "cell_type": "code",
   "execution_count": 31,
   "metadata": {},
   "outputs": [
    {
     "name": "stdout",
     "output_type": "stream",
     "text": [
      "55\n",
      "<class 'int'>\n"
     ]
    }
   ],
   "source": [
    "from functools import reduce\n",
    "def add_nums(x,y): return x+y\n",
    "print(reduce(add_nums, range(11)))\n",
    "print(type(reduce(add_nums, range(11))))"
   ]
  },
  {
   "cell_type": "code",
   "execution_count": 32,
   "metadata": {},
   "outputs": [
    {
     "name": "stdout",
     "output_type": "stream",
     "text": [
      "65\n"
     ]
    }
   ],
   "source": [
    "print(reduce(add_nums, range(11),10))"
   ]
  },
  {
   "cell_type": "markdown",
   "metadata": {},
   "source": [
    "## Lambda"
   ]
  },
  {
   "cell_type": "code",
   "execution_count": 33,
   "metadata": {},
   "outputs": [
    {
     "name": "stdout",
     "output_type": "stream",
     "text": [
      "1024\n"
     ]
    }
   ],
   "source": [
    "print((lambda x,y: x**y)(4,5))"
   ]
  },
  {
   "cell_type": "code",
   "execution_count": 34,
   "metadata": {},
   "outputs": [
    {
     "name": "stdout",
     "output_type": "stream",
     "text": [
      "1024\n"
     ]
    }
   ],
   "source": [
    "squared = lambda x,y: x**y\n",
    "print(squared(4,5))"
   ]
  },
  {
   "cell_type": "code",
   "execution_count": 35,
   "metadata": {},
   "outputs": [
    {
     "name": "stdout",
     "output_type": "stream",
     "text": [
      "<map object at 0x0000019074B14BE0>\n",
      "[(0, 0), (1, 1), (2, 4), (3, 9), (4, 16), (5, 25), (6, 36), (7, 49), (8, 64), (9, 81)]\n"
     ]
    }
   ],
   "source": [
    "print(map(lambda x,y: (x,y), range(10), map(lambda x: x**2, range(10))))\n",
    "print(list(map(lambda x,y: (x,y), range(10), map(lambda x: x**2, range(10)))))"
   ]
  },
  {
   "cell_type": "code",
   "execution_count": 36,
   "metadata": {},
   "outputs": [
    {
     "name": "stdout",
     "output_type": "stream",
     "text": [
      "dict_keys(['dani', 'yossi', 'liat', 'shira'])\n",
      "['yossi', 'shira', 'liat', 'dani']\n"
     ]
    }
   ],
   "source": [
    "d = {'dani':30, 'yossi':25, 'liat':29, 'shira':28}\n",
    "print(d.keys())\n",
    "print(sorted(d.keys(), key=lambda name: d[name]))"
   ]
  },
  {
   "cell_type": "code",
   "execution_count": 37,
   "metadata": {},
   "outputs": [
    {
     "name": "stdout",
     "output_type": "stream",
     "text": [
      "[100, 200, 300, 400, 500, 600, 700, 800, 900, 1000]\n",
      "[200, 300, 400, 500, 600, 700, 800]\n"
     ]
    }
   ],
   "source": [
    "l1=list(range(100,1001,100))\n",
    "print(l1)\n",
    "l2=list(filter(lambda x:x>=200 and x<=800,l1))\n",
    "print(l2)"
   ]
  },
  {
   "cell_type": "code",
   "execution_count": 38,
   "metadata": {},
   "outputs": [
    {
     "name": "stdout",
     "output_type": "stream",
     "text": [
      "[100, 200, 300, 400, 500, 600, 700, 800, 900, 1000]\n",
      "[200, 300, 400, 500, 600, 700, 800]\n",
      "[0, 16, 33, 50, 66, 83, 100]\n"
     ]
    }
   ],
   "source": [
    "l1=list(range(100,1001,100))\n",
    "print(l1)\n",
    "print(list(filter(lambda x:x>=200 and x<=800,l1)))\n",
    "print(list(map(lambda x:int((x-200)/6),filter(lambda x:x>=200 and x<=800,l1))))"
   ]
  },
  {
   "cell_type": "code",
   "execution_count": 39,
   "metadata": {},
   "outputs": [
    {
     "name": "stdout",
     "output_type": "stream",
     "text": [
      "[97, 142, 86]\n"
     ]
    }
   ],
   "source": [
    "m1=[[4,6,3,6],[4,6,4,7,3,4],[5,4,3,6]]# wanted - [97, 142, 86]\n",
    "l1=list(map(lambda lst: reduce(lambda x,y: x+y, lst), \\\n",
    "        map(lambda lst: map(lambda num: num**2, lst), m1)))\n",
    "print(l1)"
   ]
  },
  {
   "cell_type": "markdown",
   "metadata": {},
   "source": [
    "# Data structures"
   ]
  },
  {
   "cell_type": "markdown",
   "metadata": {},
   "source": [
    "## Node"
   ]
  },
  {
   "cell_type": "code",
   "execution_count": 40,
   "metadata": {},
   "outputs": [],
   "source": [
    "class Node:\n",
    "    def __init__(self, val):\n",
    "        self.value = val\n",
    "        self.next = None\n",
    "    \n",
    "    def __repr__(self):\n",
    "        return '[' + str(self.value) + ']'"
   ]
  },
  {
   "cell_type": "code",
   "execution_count": 41,
   "metadata": {},
   "outputs": [
    {
     "name": "stdout",
     "output_type": "stream",
     "text": [
      "[5]\n"
     ]
    }
   ],
   "source": [
    "n1 = Node(5)\n",
    "print(n1)"
   ]
  },
  {
   "cell_type": "markdown",
   "metadata": {},
   "source": [
    "## Lined list"
   ]
  },
  {
   "cell_type": "code",
   "execution_count": 42,
   "metadata": {},
   "outputs": [],
   "source": [
    "class Linked_List:\n",
    "    def __init__(self):\n",
    "        self.head = None\n",
    "        self.len = 0\n",
    "    \n",
    "    def __repr__(self):\n",
    "        out = ''\n",
    "        p = self.head\n",
    "        while p != None:\n",
    "            out += str(p) + '->'\n",
    "            p = p.next\n",
    "        return out\n",
    "    \n",
    "    def __len__(self):\n",
    "        return self.len\n",
    "    \n",
    "    def add_at_start(self, val):\n",
    "        p = Node(val)\n",
    "        p.next = self.head\n",
    "        self.head=p\n",
    "        self.len += 1\n",
    "        \n",
    "    def insert(self, loc, val):\n",
    "        if not(0 <= loc <= len(self)):\n",
    "            print(\"Invalid location\")\n",
    "            return\n",
    "        if loc==0:\n",
    "            self.add_at_start(val)\n",
    "            return\n",
    "        p = self.head\n",
    "        for i in range(0, loc-1):\n",
    "            p = p.next\n",
    "        tmp = p.next\n",
    "        p.next = Node(val)\n",
    "        p.next.next = tmp\n",
    "        self.len += 1  \n",
    "        \n",
    "    def delete(self, loc):\n",
    "        if not(0 <= loc < len(self)):\n",
    "            print(\"Invalid location\")\n",
    "            return\n",
    "        if loc==0:\n",
    "            self.head=self.head.next\n",
    "        else:\n",
    "            p = self.head\n",
    "            for i in range(0, loc-1):\n",
    "                p = p.next\n",
    "            p.next = p.next.next\n",
    "        self.len -= 1\n",
    "        \n",
    "    def __getitem__(self, loc):\n",
    "        if not(0 <= loc < len(self)):\n",
    "            print(\"Invalid location\")\n",
    "            return\n",
    "        p = self.head\n",
    "        for i in range(0, loc):\n",
    "            p = p.next\n",
    "        return p\n",
    "    \n",
    "    # All next methods shows how we can use recursion to manipulate linked list easly\n",
    "    \n",
    "    # Append item recursively\n",
    "    def append(self, val):\n",
    "        def append_rec(node, val):\n",
    "            if node.next is None:\n",
    "                node.next = Node(val)\n",
    "            else:\n",
    "                append_rec(node.next, val)\n",
    "                \n",
    "        if self.head is None:\n",
    "            self.head = Node(val)\n",
    "            self.len += 1\n",
    "        else:\n",
    "            append_rec(self.head, val)\n",
    "            self.len += 1\n",
    "\n",
    "    def print_reversed(self):\n",
    "        def print_reversed_rec(node):\n",
    "            if node.next is None:\n",
    "                print(node)\n",
    "                return\n",
    "            print_reversed_rec(node.next)\n",
    "            print(node)\n",
    "        \n",
    "        if self.head is None:\n",
    "            print('X->')\n",
    "        else:\n",
    "            print_reversed_rec(self.head)               \n",
    "            \n",
    "    def accumulated_rec(self):\n",
    "        def accumulated_rec_help(node, res):\n",
    "            if node.next is None:\n",
    "                res.add_at_start(node.value)\n",
    "            else:\n",
    "                accumulated_rec_help(node.next, res)\n",
    "                res.add_at_start(node.value + res.head.value)\n",
    "\n",
    "        res = Linked_List()\n",
    "        accumulated_rec_help(self.head, res)\n",
    "        return res\n",
    "    \n",
    "    def accumulated_iter(self):\n",
    "        res = Linked_List()\n",
    "        for i in range(len(self)):\n",
    "            acc_to_add = 0\n",
    "            for j in range(i, len(self)):\n",
    "                acc_to_add += self[j].value\n",
    "            res.append(acc_to_add)\n",
    "        return res"
   ]
  },
  {
   "cell_type": "code",
   "execution_count": 43,
   "metadata": {},
   "outputs": [
    {
     "name": "stdout",
     "output_type": "stream",
     "text": [
      "[5]->[3]->[4]->[6]->\n"
     ]
    }
   ],
   "source": [
    "lnk = Linked_List()\n",
    "lnk.add_at_start(6)\n",
    "lnk.add_at_start(4)\n",
    "lnk.add_at_start(3)\n",
    "lnk.add_at_start(5)\n",
    "print(lnk)"
   ]
  },
  {
   "cell_type": "code",
   "execution_count": 44,
   "metadata": {},
   "outputs": [
    {
     "name": "stdout",
     "output_type": "stream",
     "text": [
      "[5]->[3]->[10]->[4]->[6]->\n"
     ]
    }
   ],
   "source": [
    "lnk.insert(2,10)\n",
    "print(lnk)"
   ]
  },
  {
   "cell_type": "code",
   "execution_count": 45,
   "metadata": {},
   "outputs": [
    {
     "name": "stdout",
     "output_type": "stream",
     "text": [
      "[5]->[3]->[4]->[6]->\n"
     ]
    }
   ],
   "source": [
    "lnk.delete(2)\n",
    "print(lnk)"
   ]
  },
  {
   "cell_type": "code",
   "execution_count": 46,
   "metadata": {},
   "outputs": [
    {
     "data": {
      "text/plain": [
       "[3]"
      ]
     },
     "execution_count": 46,
     "metadata": {},
     "output_type": "execute_result"
    }
   ],
   "source": [
    "lnk[1]"
   ]
  },
  {
   "cell_type": "code",
   "execution_count": 47,
   "metadata": {},
   "outputs": [
    {
     "name": "stdout",
     "output_type": "stream",
     "text": [
      "5\n",
      "[5]->[3]->[4]->[6]->[10]->\n"
     ]
    }
   ],
   "source": [
    "lnk.append(10)\n",
    "print(len(lnk))\n",
    "print(lnk)"
   ]
  },
  {
   "cell_type": "code",
   "execution_count": 48,
   "metadata": {},
   "outputs": [
    {
     "name": "stdout",
     "output_type": "stream",
     "text": [
      "[10]\n",
      "[6]\n",
      "[4]\n",
      "[3]\n",
      "[5]\n"
     ]
    }
   ],
   "source": [
    "lnk.print_reversed()"
   ]
  },
  {
   "cell_type": "code",
   "execution_count": 49,
   "metadata": {
    "scrolled": true
   },
   "outputs": [
    {
     "data": {
      "text/plain": [
       "[28]->[23]->[20]->[16]->[10]->"
      ]
     },
     "execution_count": 49,
     "metadata": {},
     "output_type": "execute_result"
    }
   ],
   "source": [
    "lnk.accumulated_iter()"
   ]
  },
  {
   "cell_type": "code",
   "execution_count": 50,
   "metadata": {},
   "outputs": [
    {
     "data": {
      "text/plain": [
       "[28]->[23]->[20]->[16]->[10]->"
      ]
     },
     "execution_count": 50,
     "metadata": {},
     "output_type": "execute_result"
    }
   ],
   "source": [
    "lnk.accumulated_rec()"
   ]
  },
  {
   "cell_type": "markdown",
   "metadata": {},
   "source": [
    "#### Time Comparison"
   ]
  },
  {
   "cell_type": "code",
   "execution_count": 51,
   "metadata": {},
   "outputs": [],
   "source": [
    "# Time comparison\n",
    "big_link_lst = Linked_List()\n",
    "for i in range(100):\n",
    "    big_link_lst.add_at_start(i)"
   ]
  },
  {
   "cell_type": "code",
   "execution_count": 52,
   "metadata": {},
   "outputs": [],
   "source": [
    "import timeit"
   ]
  },
  {
   "cell_type": "code",
   "execution_count": 53,
   "metadata": {},
   "outputs": [
    {
     "name": "stdout",
     "output_type": "stream",
     "text": [
      "Time:  0.0002504999999928259\n"
     ]
    }
   ],
   "source": [
    "start = timeit.default_timer()\n",
    "\n",
    "rec_accumulated_lst = big_link_lst.accumulated_rec()\n",
    "\n",
    "stop = timeit.default_timer()\n",
    "\n",
    "rec_time = stop - start\n",
    "\n",
    "print('Time: ', rec_time)  "
   ]
  },
  {
   "cell_type": "code",
   "execution_count": 54,
   "metadata": {},
   "outputs": [
    {
     "name": "stdout",
     "output_type": "stream",
     "text": [
      "Time:  0.0287213999999949\n",
      "Recursion was 114 times faster!\n"
     ]
    }
   ],
   "source": [
    "start = timeit.default_timer()\n",
    "\n",
    "iter_acc_lst = big_link_lst.accumulated_iter()\n",
    "\n",
    "stop = timeit.default_timer()\n",
    "\n",
    "iter_time = stop - start\n",
    "\n",
    "print('Time: ', iter_time) \n",
    "\n",
    "print('Recursion was', int(iter_time / rec_time), 'times faster!')"
   ]
  },
  {
   "cell_type": "markdown",
   "metadata": {},
   "source": [
    "## Stack"
   ]
  },
  {
   "cell_type": "code",
   "execution_count": 55,
   "metadata": {},
   "outputs": [],
   "source": [
    "class Stack:\n",
    "    def __init__(self):\n",
    "        self.stack_vals = []\n",
    "        self.len = 0\n",
    "        \n",
    "    def push(self, val):\n",
    "        self.stack_vals.append(val)\n",
    "        self.len += 1\n",
    "        \n",
    "    def pop(self):\n",
    "        if self.is_empty():\n",
    "            return None\n",
    "        res = self.stack_vals[-1]\n",
    "        self.stack_vals = self.stack_vals[0:-1]\n",
    "        self.len -= 1\n",
    "        return res\n",
    "    \n",
    "    def __repr__(self):\n",
    "        out = '|'\n",
    "        for i in range(self.len):\n",
    "            out += str(self.stack_vals[i]) + ' ' \n",
    "        out += '<-top'\n",
    "        return out\n",
    "            \n",
    "    def peek(self):\n",
    "        if self.is_empty():\n",
    "            return None\n",
    "        return self.stack_vals[-1]\n",
    "    \n",
    "    def __len__(self):\n",
    "        return self.len\n",
    "    \n",
    "    def is_empty(self):\n",
    "        return self.len == 0"
   ]
  },
  {
   "cell_type": "code",
   "execution_count": 56,
   "metadata": {},
   "outputs": [],
   "source": [
    "my_stack = Stack()\n",
    "my_stack.push(3)\n",
    "my_stack.push(5)\n",
    "my_stack.push(7)"
   ]
  },
  {
   "cell_type": "code",
   "execution_count": 57,
   "metadata": {},
   "outputs": [
    {
     "data": {
      "text/plain": [
       "|3 5 7 <-top"
      ]
     },
     "execution_count": 57,
     "metadata": {},
     "output_type": "execute_result"
    }
   ],
   "source": [
    "my_stack"
   ]
  },
  {
   "cell_type": "code",
   "execution_count": 58,
   "metadata": {
    "scrolled": true
   },
   "outputs": [
    {
     "data": {
      "text/plain": [
       "7"
      ]
     },
     "execution_count": 58,
     "metadata": {},
     "output_type": "execute_result"
    }
   ],
   "source": [
    "my_stack.pop()"
   ]
  },
  {
   "cell_type": "code",
   "execution_count": 59,
   "metadata": {},
   "outputs": [
    {
     "data": {
      "text/plain": [
       "5"
      ]
     },
     "execution_count": 59,
     "metadata": {},
     "output_type": "execute_result"
    }
   ],
   "source": [
    "my_stack.peek()"
   ]
  },
  {
   "cell_type": "code",
   "execution_count": 60,
   "metadata": {},
   "outputs": [
    {
     "data": {
      "text/plain": [
       "|3 5 <-top"
      ]
     },
     "execution_count": 60,
     "metadata": {},
     "output_type": "execute_result"
    }
   ],
   "source": [
    "my_stack"
   ]
  },
  {
   "cell_type": "markdown",
   "metadata": {},
   "source": [
    "## Linked List using Stack"
   ]
  },
  {
   "cell_type": "code",
   "execution_count": 61,
   "metadata": {},
   "outputs": [],
   "source": [
    "class Linked_List_using_Stack:\n",
    "    def __init__(self):\n",
    "        self.stack = Stack()\n",
    "        self.len = 0\n",
    "    \n",
    "    def __len__(self):\n",
    "        return self.len\n",
    "    \n",
    "    def __repr__(self):\n",
    "        help_stack = Stack()\n",
    "        out = ''\n",
    "        while self.stack.is_empty() != True:\n",
    "            tmp = self.stack.pop()  \n",
    "            help_stack.push(tmp)\n",
    "            out += '[' + str(tmp) + ']' + '->'  \n",
    "        while help_stack.is_empty() != True:\n",
    "            self.stack.push(help_stack.pop())\n",
    "        return out\n",
    "    \n",
    "    def add_at_start(self, val):\n",
    "        self.stack.push(val)\n",
    "        self.len += 1\n",
    "        \n",
    "    def insert(self, val, loc):\n",
    "        if not(0 <= loc <= len(self)):\n",
    "            print(\"Invalid location\")\n",
    "            return\n",
    "        help_stack = Stack()\n",
    "        while loc > 0:\n",
    "            help_stack.push(self.stack.pop())\n",
    "            loc -= 1\n",
    "        self.stack.push(val)\n",
    "        while help_stack.is_empty() != True:\n",
    "            self.stack.push(help_stack.pop())\n",
    "        self.len += 1\n",
    "        \n",
    "    def delete(self, loc):\n",
    "        if not(0 <= loc < len(self)):\n",
    "            print(\"Invalid location\")\n",
    "            return\n",
    "        help_stack = Stack()\n",
    "        while loc > 0:\n",
    "            help_stack.push(self.stack.pop())\n",
    "            loc -= 1\n",
    "        self.stack.pop()\n",
    "        while help_stack.is_empty() != True:\n",
    "            self.stack.push(help_stack.pop())\n",
    "        \n",
    "    def __getitem__(self, loc):\n",
    "        if not(0 <= loc < len(self)):\n",
    "            print(\"Invalid location\")\n",
    "            return\n",
    "        help_stack = Stack()\n",
    "        while loc > 0:\n",
    "            help_stack.push(self.stack.pop())\n",
    "            loc -= 1\n",
    "        res = self.stack.pop()\n",
    "        self.stack.push(res)\n",
    "        while help_stack.is_empty() != True:\n",
    "            self.stack.push(help_stack.pop())\n",
    "        return res"
   ]
  },
  {
   "cell_type": "code",
   "execution_count": 62,
   "metadata": {},
   "outputs": [],
   "source": [
    "lst_use_stack = Linked_List_using_Stack()"
   ]
  },
  {
   "cell_type": "code",
   "execution_count": 63,
   "metadata": {},
   "outputs": [],
   "source": [
    "lst_use_stack.add_at_start(5)\n",
    "lst_use_stack.add_at_start(6)\n",
    "lst_use_stack.add_at_start(7)\n",
    "lst_use_stack.add_at_start(8)"
   ]
  },
  {
   "cell_type": "code",
   "execution_count": 64,
   "metadata": {},
   "outputs": [
    {
     "data": {
      "text/plain": [
       "[8]->[7]->[6]->[5]->"
      ]
     },
     "execution_count": 64,
     "metadata": {},
     "output_type": "execute_result"
    }
   ],
   "source": [
    "lst_use_stack"
   ]
  },
  {
   "cell_type": "code",
   "execution_count": 65,
   "metadata": {},
   "outputs": [
    {
     "data": {
      "text/plain": [
       "[8]->[7]->[15]->[6]->[5]->"
      ]
     },
     "execution_count": 65,
     "metadata": {},
     "output_type": "execute_result"
    }
   ],
   "source": [
    "lst_use_stack.insert(15,2)\n",
    "lst_use_stack"
   ]
  },
  {
   "cell_type": "code",
   "execution_count": 66,
   "metadata": {},
   "outputs": [
    {
     "data": {
      "text/plain": [
       "[8]->[7]->[15]->[6]->"
      ]
     },
     "execution_count": 66,
     "metadata": {},
     "output_type": "execute_result"
    }
   ],
   "source": [
    "lst_use_stack.delete(4)\n",
    "lst_use_stack"
   ]
  }
 ],
 "metadata": {
  "celltoolbar": "Raw Cell Format",
  "kernelspec": {
   "display_name": "Python 3",
   "language": "python",
   "name": "python3"
  },
  "language_info": {
   "codemirror_mode": {
    "name": "ipython",
    "version": 3
   },
   "file_extension": ".py",
   "mimetype": "text/x-python",
   "name": "python",
   "nbconvert_exporter": "python",
   "pygments_lexer": "ipython3",
   "version": "3.8.3"
  }
 },
 "nbformat": 4,
 "nbformat_minor": 2
}
