{
 "cells": [
  {
   "cell_type": "markdown",
   "metadata": {},
   "source": [
    "<font size=\"8\"> Code for lecture #18: <br><br> Abstract data types (ADT) <br><br> linked lists </font>"
   ]
  },
  {
   "cell_type": "markdown",
   "metadata": {},
   "source": [
    "<font size=\"6\"> Abstract Data Types </font>"
   ]
  },
  {
   "cell_type": "markdown",
   "metadata": {},
   "source": [
    "<font size=\"4\"> Stack - implementation with a list </font>"
   ]
  },
  {
   "cell_type": "code",
   "execution_count": 1,
   "metadata": {},
   "outputs": [],
   "source": [
    "class MyStack:\n",
    "    def __init__(self):\n",
    "        self.__items = []\n",
    "    \n",
    "    def push(self, item):\n",
    "        self.__items.append(item)\n",
    "\n",
    "    def pop(self):\n",
    "        return self.__items.pop()\n",
    "    \n",
    "    def peek(self):\n",
    "        return self.__items[-1]\n",
    "        \n",
    "    def is_empty(self):\n",
    "        return len(self.__items) == 0\n",
    "    \n",
    "    def size(self):\n",
    "        return len(self.__items)\n",
    "    \n",
    "    def __repr__(self):\n",
    "        return \"(class MyStack, \" + repr(self.__items) +\")\""
   ]
  },
  {
   "cell_type": "code",
   "execution_count": 70,
   "metadata": {},
   "outputs": [
    {
     "name": "stdout",
     "output_type": "stream",
     "text": [
      "(class MyStack, [])\n",
      "(class MyStack, [5, 7])\n",
      "(class MyStack, [5])\n"
     ]
    }
   ],
   "source": [
    "s = MyStack()\n",
    "t = MyStack()\n",
    "\n",
    "print(s)\n",
    "s.push(5)\n",
    "s.push(7)\n",
    "print(s)\n",
    "s.pop()\n",
    "print(s)"
   ]
  },
  {
   "cell_type": "markdown",
   "metadata": {},
   "source": [
    "<font size=\"4\"> Queue - implementation with a list </font>"
   ]
  },
  {
   "cell_type": "code",
   "execution_count": 3,
   "metadata": {},
   "outputs": [],
   "source": [
    "class MyQueue:\n",
    "    def __init__(self):\n",
    "        self.__items = []\n",
    "    \n",
    "    def enqueue(self, item):\n",
    "        self.__items.insert(0,item)\n",
    "\n",
    "    def dequeue(self):\n",
    "        return self.__items.pop()\n",
    "        \n",
    "    def is_empty(self):\n",
    "        return len(self.__items) == 0\n",
    "    \n",
    "    def size(self):\n",
    "        return len(self.__items)\n",
    "    \n",
    "    def __repr__(self):\n",
    "        return \"(class MyQueue, \" + repr(self.__items) +\")\"\n"
   ]
  },
  {
   "cell_type": "code",
   "execution_count": 4,
   "metadata": {},
   "outputs": [
    {
     "name": "stdout",
     "output_type": "stream",
     "text": [
      "0 (class MyQueue, [])\n",
      "1 (class MyQueue, [0])\n",
      "\n",
      "5 (class MyQueue, [16, 9, 4, 1, 0])\n",
      "6 (class MyQueue, [25, 16, 9, 4, 1, 0])\n",
      "\n",
      "10 (class MyQueue, [81, 64, 49, 36, 25, 16, 9, 4, 1, 0])\n",
      "11 (class MyQueue, [100, 81, 64, 49, 36, 25, 16, 9, 4, 1, 0])\n",
      "\n"
     ]
    }
   ],
   "source": [
    "q = MyQueue()\n",
    "for i in range(11):\n",
    "    if i % 5 == 0:\n",
    "        print(i,q)\n",
    "    q.enqueue(i**2)\n",
    "    if i % 5 == 0:\n",
    "        print(i+1,q)\n",
    "        print()"
   ]
  },
  {
   "cell_type": "code",
   "execution_count": 5,
   "metadata": {},
   "outputs": [
    {
     "name": "stdout",
     "output_type": "stream",
     "text": [
      "0 1 4 9\n"
     ]
    }
   ],
   "source": [
    "print(q.dequeue(),q.dequeue(),q.dequeue(),q.dequeue())"
   ]
  },
  {
   "cell_type": "markdown",
   "metadata": {},
   "source": [
    "<font size=\"6\"> Linked lists </font>"
   ]
  },
  {
   "cell_type": "code",
   "execution_count": 6,
   "metadata": {},
   "outputs": [],
   "source": [
    "class Node:\n",
    "    def __init__(self, val):\n",
    "        self.value = val\n",
    "        self.next = None\n",
    "        \n",
    "    def __repr__(self):\n",
    "        return \"[\" + str(self.value) + \", nxt:\" + str(id(self.next))+ \"]\"\n",
    "    #This shows pointers as well for educational purposes\n"
   ]
  },
  {
   "cell_type": "code",
   "execution_count": 9,
   "metadata": {},
   "outputs": [
    {
     "data": {
      "text/plain": [
       "[10, nxt:140706590664832]"
      ]
     },
     "execution_count": 9,
     "metadata": {},
     "output_type": "execute_result"
    }
   ],
   "source": [
    "n1 = Node(10)\n",
    "n2 = Node(20)\n",
    "n1"
   ]
  },
  {
   "cell_type": "code",
   "execution_count": 10,
   "metadata": {},
   "outputs": [
    {
     "data": {
      "text/plain": [
       "[10, nxt:1674932143152]"
      ]
     },
     "execution_count": 10,
     "metadata": {},
     "output_type": "execute_result"
    }
   ],
   "source": [
    "n1.next = n2\n",
    "n1"
   ]
  },
  {
   "cell_type": "code",
   "execution_count": 11,
   "metadata": {},
   "outputs": [
    {
     "data": {
      "text/plain": [
       "20"
      ]
     },
     "execution_count": 11,
     "metadata": {},
     "output_type": "execute_result"
    }
   ],
   "source": [
    "n1.next.value"
   ]
  },
  {
   "cell_type": "code",
   "execution_count": 12,
   "metadata": {},
   "outputs": [
    {
     "ename": "AttributeError",
     "evalue": "'NoneType' object has no attribute 'value'",
     "output_type": "error",
     "traceback": [
      "\u001b[1;31m---------------------------------------------------------------------------\u001b[0m",
      "\u001b[1;31mAttributeError\u001b[0m                            Traceback (most recent call last)",
      "\u001b[1;32m<ipython-input-12-70c31197ea62>\u001b[0m in \u001b[0;36m<module>\u001b[1;34m\u001b[0m\n\u001b[1;32m----> 1\u001b[1;33m \u001b[0mn2\u001b[0m\u001b[1;33m.\u001b[0m\u001b[0mnext\u001b[0m\u001b[1;33m.\u001b[0m\u001b[0mvalue\u001b[0m\u001b[1;33m\u001b[0m\u001b[1;33m\u001b[0m\u001b[0m\n\u001b[0m",
      "\u001b[1;31mAttributeError\u001b[0m: 'NoneType' object has no attribute 'value'"
     ]
    }
   ],
   "source": [
    "n2.next.value"
   ]
  },
  {
   "cell_type": "code",
   "execution_count": 18,
   "metadata": {},
   "outputs": [],
   "source": [
    "class LinkedList:\n",
    "    def __init__(self):\n",
    "        self.head = None\n",
    "        self.len = 0\n",
    "      \n",
    "    def __repr__(self):\n",
    "        out = \" nodes:\"\n",
    "        p = self.head\n",
    "        while p != None:\n",
    "            out += str(p) + \" \"\n",
    "            p = p.next\n",
    "        return out\n"
   ]
  },
  {
   "cell_type": "code",
   "execution_count": 29,
   "metadata": {},
   "outputs": [],
   "source": [
    "my_lst = LinkedList()"
   ]
  },
  {
   "cell_type": "code",
   "execution_count": 65,
   "metadata": {},
   "outputs": [],
   "source": [
    "class LinkedList():\n",
    "    def __init__(self, seq=None):\n",
    "        self.head = None\n",
    "        self.len = 0\n",
    "        if seq != None:\n",
    "            for x in seq[::-1]:\n",
    "                self.add_at_start(x)\n",
    "    \n",
    "    def __repr__(self):\n",
    "        maxIters, curIter = 100, 0 # avoid infinite loops\n",
    "        out = \"nodes: \"\n",
    "        p = self.head\n",
    "        while p != None and curIter<maxIters:\n",
    "            out += str(p) + \" \"\n",
    "            p = p.next\n",
    "            curIter+=1                            \n",
    "        return out\n",
    "    \n",
    "    def add_at_start(self, val):\n",
    "        ''' add node with value val at the list head '''\n",
    "        new_node = Node(val)\n",
    "        if self.len == 0:\n",
    "            self.head = new_node\n",
    "        else:\n",
    "            tmp = self.head\n",
    "            self.head = new_node\n",
    "            self.head.next = tmp\n",
    "        self.len += 1\n",
    "    \n",
    "    def insert(self, loc, val):\n",
    "        ''' add node with value val at location 0<=loc<len of the list '''\n",
    "        new_node = Node(val)\n",
    "        if loc == 0:\n",
    "            new_node.next = self.head\n",
    "            self.head = new_node\n",
    "        else:\n",
    "            p = self.head\n",
    "            for i in range(1, loc):\n",
    "                p = p.next    \n",
    "            tmp = p.next\n",
    "            p.next = new_node\n",
    "            p.next.next = tmp\n",
    "        self.len += 1              \n",
    "    \n",
    "    def __len__(self):\n",
    "        ''' called when using Python's len() '''\n",
    "        return self.len\n",
    "    \n",
    "    def __getitem__(self, loc):\n",
    "        ''' called when using L[i] for reading\n",
    "            return node at location 0<=loc<len '''\n",
    "        p = self.head\n",
    "        for i in range(0, loc):\n",
    "            p = p.next            \n",
    "        return p\n",
    "    \n",
    "    def __setitem__(self, loc, val):\n",
    "        ''' called when using L[loc]=val for writing\n",
    "            assigns val to node at location 0<=loc<len '''\n",
    "        p = self.head\n",
    "        for i in range(0, loc):\n",
    "            p = p.next \n",
    "        p.value = val\n",
    "        return None\n",
    "\n",
    "    def find(self, val):\n",
    "        ''' find (first) node with value val in list '''\n",
    "        p = self.head\n",
    "        # loc = 0     # in case we want to return the location\n",
    "        while p != None:\n",
    "            if p.value == val:\n",
    "                return p\n",
    "            else:\n",
    "                p = p.next\n",
    "                #loc=loc+1   # in case we want to return the location\n",
    "        return None\n",
    "    \n",
    "    def delete(self, loc):\n",
    "        ''' delete element at location 0<=loc<len '''        \n",
    "        if loc == 0:\n",
    "            self.head = self.head.next\n",
    "        else:        \n",
    "            p = self.head\n",
    "            for i in range(1, loc):\n",
    "                p = p.next \n",
    "            if p.next != None: #p cannot be None\n",
    "                p.next = p.next.next\n",
    "        self.len -= 1\n",
    "        \n",
    "    def insert_ordered(self, val):\n",
    "        ''' assume self is an ordered list,\n",
    "            insert Node with val in order '''        \n",
    "        new_node = Node(val)\n",
    "        p = self.head\n",
    "        if p == None or val <= p.value:\n",
    "            new_node.next = p\n",
    "            self.head = new_node\n",
    "        else:\n",
    "            q = p.next\n",
    "            while q != None and q.value < val:\n",
    "                p = q\n",
    "                q = q.next\n",
    "        \n",
    "            p.next = new_node\n",
    "            new_node.next = q\n",
    "        self.len += 1\n",
    "\n",
    "    def find_ordered(self, val):\n",
    "        ''' assume self is an ordered list,\n",
    "            find Node with value val '''\n",
    "        p = self.head\n",
    "        while p != None and p.value < val:\n",
    "            p = p.next\n",
    "        if p != None and p.value == val: \n",
    "            return p\n",
    "        else:\n",
    "            return None\n",
    "    \n",
    "                    \n",
    "    def add_at_end(self, val):\n",
    "        ''' add node with value val at the list tail '''\n",
    "        new_node = Node(val)\n",
    "        if self.len == 0:\n",
    "            self.head = new_node\n",
    "        else:\n",
    "            p = self.head\n",
    "            while (p.next != None):\n",
    "                p = p.next\n",
    "            p.next = new_node        \n",
    "        self.len += 1"
   ]
  },
  {
   "cell_type": "code",
   "execution_count": 52,
   "metadata": {},
   "outputs": [
    {
     "name": "stdout",
     "output_type": "stream",
     "text": [
      "nodes: [d, nxt:1674980010016] [c, nxt:1674980011552] [b, nxt:1674980011648] [e, nxt:1674980010544] [a, nxt:140706590664832] \n",
      "nodes: [c, nxt:1674980011552] [b, nxt:1674980011648] [e, nxt:1674980010544] [a, nxt:140706590664832] \n"
     ]
    }
   ],
   "source": [
    "my_lst = LinkedList()\n",
    "my_lst.add_at_start(\"a\")\n",
    "my_lst.add_at_start(\"b\")\n",
    "my_lst.add_at_start(\"c\")\n",
    "my_lst.add_at_start(\"d\")\n",
    "len(my_lst)\n",
    "my_lst.insert(3,\"e\")\n",
    "print(my_lst)\n",
    "my_lst.delete(0)\n",
    "print(my_lst)\n"
   ]
  },
  {
   "cell_type": "code",
   "execution_count": 53,
   "metadata": {},
   "outputs": [
    {
     "name": "stdout",
     "output_type": "stream",
     "text": [
      "After a,b,c,d:  nodes: [d, nxt:1674980011552] [c, nxt:1674980011984] [b, nxt:1674980010016] [a, nxt:140706590664832] \n",
      "4\n",
      "c\n",
      "c\n",
      "nodes: [d, nxt:1674980011552] [c, nxt:1674967618560] [x, nxt:1674980011984] [b, nxt:1674980010016] [a, nxt:140706590664832] \n",
      "my_lst.find('x'): [x, nxt:1674980011984]\n",
      "After deleting 2:\n",
      "nodes: [d, nxt:1674980011552] [c, nxt:1674980011984] [b, nxt:1674980010016] [a, nxt:140706590664832] \n",
      "from list: 1,2,3,4: nodes: [1, nxt:1674967646112] [2, nxt:1674967646160] [3, nxt:1674967643664] [4, nxt:140706590664832] \n"
     ]
    }
   ],
   "source": [
    "my_lst = LinkedList()\n",
    "my_lst.add_at_start(\"a\")\n",
    "my_lst.add_at_start(\"b\")\n",
    "my_lst.add_at_start(\"c\")\n",
    "my_lst.add_at_start(\"d\")\n",
    "print(\"After a,b,c,d:  \" + str(my_lst))\n",
    "print(len(my_lst))\n",
    "print(my_lst[1].value)\n",
    "print(my_lst.__getitem__(1).value)\n",
    "my_lst.insert(2,'x')\n",
    "print(my_lst)\n",
    "print(\"my_lst.find('x'): \" + str(my_lst.find('x')))\n",
    "my_lst.delete(2)\n",
    "print(\"After deleting 2:\")\n",
    "print(my_lst)\n",
    "new_lst = LinkedList([1,2,3,4])\n",
    "print(\"from list: 1,2,3,4: \" +str(new_lst))"
   ]
  },
  {
   "cell_type": "code",
   "execution_count": 63,
   "metadata": {},
   "outputs": [],
   "source": [
    "def test2():\n",
    "    lst = LinkedList()\n",
    "    lst.add_at_start(3)\n",
    "    lst.add_at_start(5)\n",
    "    lst.insert(1,4)\n",
    "    lst.insert(2,7)\n",
    "    print(lst)\n",
    "    print(\"length of list=\", len(lst)) #calls lst.__len__()\n",
    "    print(lst.__getitem__(2))\n",
    "    print(lst[2]) #calls lst.__getitem__(2)\n",
    "    print(lst[0])\n",
    "    lst.insert(0,9)\n",
    "    print(lst.find(4))\n",
    "    print(lst.find(9))\n",
    "    print(lst.find(8))\n",
    "    lst.delete(3)\n",
    "    print(lst)\n",
    "    lst[1] = 999 #calls lst.__setitem__(1,999)\n",
    "    print(lst)\n",
    "\n",
    "    \n",
    "def test3(): #for ordered lists\n",
    "    lst = LinkedList()\n",
    "    lst.insert_ordered(3)\n",
    "    print(lst)\n",
    "    lst.insert_ordered(7)\n",
    "    print(lst)\n",
    "    lst.insert_ordered(5)\n",
    "    print(lst)\n",
    "    lst.insert_ordered(1)\n",
    "    print(lst)\n",
    "    lst.insert_ordered(5)\n",
    "    print(lst)\n",
    "    print(lst.find_ordered(5))\n",
    "    print(lst.find_ordered(3))\n",
    "    print(lst.find_ordered(7))\n",
    "    print(lst.find_ordered(6))\n",
    "    print(lst.find_ordered(1))\n",
    "    print(lst.find_ordered(10))\n",
    "    "
   ]
  },
  {
   "cell_type": "code",
   "execution_count": 57,
   "metadata": {},
   "outputs": [
    {
     "name": "stdout",
     "output_type": "stream",
     "text": [
      "nodes: [5, nxt:1674980010784] [4, nxt:1674980011888] [7, nxt:1674980009824] [3, nxt:140706590664832] \n",
      "length of list= 4\n",
      "[7, nxt:1674980009824]\n",
      "[7, nxt:1674980009824]\n",
      "[5, nxt:1674980010784]\n",
      "[4, nxt:1674980011888]\n",
      "[9, nxt:1674980011408]\n",
      "None\n",
      "nodes: [9, nxt:1674980011408] [5, nxt:1674980010784] [4, nxt:1674980009824] [3, nxt:140706590664832] \n",
      "nodes: [9, nxt:1674980011408] [999, nxt:1674980010784] [4, nxt:1674980009824] [3, nxt:140706590664832] \n"
     ]
    }
   ],
   "source": [
    "test2()"
   ]
  },
  {
   "cell_type": "code",
   "execution_count": 66,
   "metadata": {},
   "outputs": [
    {
     "name": "stdout",
     "output_type": "stream",
     "text": [
      "nodes: [3, nxt:140706590664832] \n",
      "nodes: [3, nxt:1674932062192] [7, nxt:140706590664832] \n",
      "nodes: [3, nxt:1674962824448] [5, nxt:1674932062192] [7, nxt:140706590664832] \n",
      "nodes: [1, nxt:1674932060944] [3, nxt:1674962824448] [5, nxt:1674932062192] [7, nxt:140706590664832] \n",
      "nodes: [1, nxt:1674932060944] [3, nxt:1674962874528] [5, nxt:1674962824448] [5, nxt:1674932062192] [7, nxt:140706590664832] \n",
      "[5, nxt:1674962824448]\n",
      "[3, nxt:1674962874528]\n",
      "[7, nxt:140706590664832]\n",
      "None\n",
      "[1, nxt:1674932060944]\n",
      "None\n"
     ]
    }
   ],
   "source": [
    "test3()"
   ]
  },
  {
   "cell_type": "markdown",
   "metadata": {},
   "source": [
    "<font size=\"4\"> Implementing a stack using a linked list (discussion - implement 2020) </font>"
   ]
  },
  {
   "cell_type": "code",
   "execution_count": 68,
   "metadata": {},
   "outputs": [],
   "source": [
    "class LinkedListStack:\n",
    "    def __init__(self):\n",
    "        self.__items = LinkedList()\n",
    "    \n",
    "    def push(self, item):\n",
    "        self.__items.add_at_start(item)\n",
    "\n",
    "    def pop(self):\n",
    "        res = self.__items[0]\n",
    "        self.__items.delete(0)\n",
    "        return res\n",
    "    \n",
    "    def peek(self):\n",
    "        return self.__items[0]\n",
    "        \n",
    "    def is_empty(self):\n",
    "        return len(self.__items) == 0\n",
    "    \n",
    "    def size(self):\n",
    "        return len(self.__items)\n",
    "    \n",
    "    def __repr__(self):\n",
    "        return \"(class LinkedListStack, \" + repr(self.__items) +\")\""
   ]
  },
  {
   "cell_type": "code",
   "execution_count": 72,
   "metadata": {},
   "outputs": [
    {
     "name": "stdout",
     "output_type": "stream",
     "text": [
      "(class LinkedListStack, nodes: )\n",
      "(class LinkedListStack, nodes: [7, nxt:1674967655520] [5, nxt:140706590664832] )\n",
      "(class LinkedListStack, nodes: [5, nxt:140706590664832] )\n"
     ]
    }
   ],
   "source": [
    "s = LinkedListStack()\n",
    "t = LinkedListStack()\n",
    "\n",
    "print(s)\n",
    "s.push(5)\n",
    "s.push(7)\n",
    "print(s)\n",
    "s.pop()\n",
    "print(s)"
   ]
  }
 ],
 "metadata": {
  "kernelspec": {
   "display_name": "Python 3",
   "language": "python",
   "name": "python3"
  },
  "language_info": {
   "codemirror_mode": {
    "name": "ipython",
    "version": 3
   },
   "file_extension": ".py",
   "mimetype": "text/x-python",
   "name": "python",
   "nbconvert_exporter": "python",
   "pygments_lexer": "ipython3",
   "version": "3.8.3"
  }
 },
 "nbformat": 4,
 "nbformat_minor": 2
}
