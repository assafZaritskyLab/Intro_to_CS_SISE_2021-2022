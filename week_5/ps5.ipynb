{
 "cells": [
  {
   "cell_type": "code",
   "execution_count": 2,
   "outputs": [
    {
     "name": "stdout",
     "output_type": "stream",
     "text": [
      "38\n",
      "took: 0.0010020732879638672\n",
      "38\n",
      "took: 0.0\n"
     ]
    }
   ],
   "source": [],
   "metadata": {
    "collapsed": false,
    "pycharm": {
     "name": "#%%\n"
    }
   }
  },
  {
   "cell_type": "code",
   "execution_count": 2,
   "outputs": [
    {
     "name": "stdout",
     "output_type": "stream",
     "text": [
      "3\n",
      "2\n",
      "1\n"
     ]
    }
   ],
   "source": [],
   "metadata": {
    "collapsed": false,
    "pycharm": {
     "name": "#%%\n"
    }
   }
  },
  {
   "cell_type": "code",
   "execution_count": 3,
   "outputs": [],
   "source": [
    "\n"
   ],
   "metadata": {
    "collapsed": false,
    "pycharm": {
     "name": "#%%\n"
    }
   }
  },
  {
   "cell_type": "code",
   "execution_count": 4,
   "outputs": [
    {
     "name": "stdout",
     "output_type": "stream",
     "text": [
      "3\n",
      "12\n"
     ]
    }
   ],
   "source": [
    "\"\"\"\n",
    "GCD\n",
    "\"\"\"\n",
    "\n",
    "\n",
    "def rec_gcd(a, b):\n",
    "    if b == 0:\n",
    "        return a\n",
    "    return rec_gcd(b, a % b)\n",
    "\n",
    "\n",
    "a, b = 123, 36\n",
    "print(rec_gcd(a, b))\n",
    "a, b = 24, 60\n",
    "print(rec_gcd(a, b))"
   ],
   "metadata": {
    "collapsed": false,
    "pycharm": {
     "name": "#%%\n"
    }
   }
  },
  {
   "cell_type": "code",
   "execution_count": 5,
   "outputs": [
    {
     "name": "stdout",
     "output_type": "stream",
     "text": [
      "1208925819614629174706176\n",
      "took: 0.0009970664978027344\n",
      "1208925819614629174706176\n",
      "took: 0.0\n"
     ]
    }
   ],
   "source": [
    "\"\"\"\n",
    "Fast power\n",
    "\"\"\"\n",
    "import time\n",
    "\n",
    "def fast_pow(x, n):\n",
    "    if n == 0:\n",
    "        return 1\n",
    "    if n % 2 == 0:\n",
    "        return fast_pow(x * x, n/2)\n",
    "    return x * fast_pow(x * x, (n-1)/2)\n",
    "\n",
    "start = time.time()\n",
    "print(fast_pow(2, 80))\n",
    "print(\"took: {}\".format(time.time() - start))\n",
    "start = time.time()\n",
    "print(2 ** 80)\n",
    "print(\"took: {}\".format(time.time() - start))\n"
   ],
   "metadata": {
    "collapsed": false,
    "pycharm": {
     "name": "#%%\n"
    }
   }
  },
  {
   "cell_type": "code",
   "execution_count": 6,
   "outputs": [
    {
     "name": "stdout",
     "output_type": "stream",
     "text": [
      "8\n",
      "7\n"
     ]
    }
   ],
   "source": [
    "\"\"\"\n",
    "LIS\n",
    "\"\"\"\n",
    "\n",
    "\n",
    "def longest_increasing(lst):\n",
    "    return longest_increasing_rec(lst, 0)\n",
    "\n",
    "\n",
    "def longest_increasing_rec(lst, last_used):\n",
    "    if len(lst) == 0:\n",
    "        return 0\n",
    "    with_next = 0\n",
    "    if lst[0] > last_used:\n",
    "        with_next = 1 + longest_increasing_rec(lst[1:], lst[0])        \n",
    "    without_next = longest_increasing_rec(lst[1:], last_used)\n",
    "    return max(with_next, without_next)\n",
    "\n",
    "print(longest_increasing([14, 19, 1, 232, 40, 41, 85, 87, 88, 200]))\n",
    "print(longest_increasing([20, 20, 1, 232, 40, 41, 85, 90, 87, 88, 200]))"
   ],
   "metadata": {
    "collapsed": false,
    "pycharm": {
     "name": "#%%\n"
    }
   }
  },
  {
   "cell_type": "code",
   "execution_count": 7,
   "outputs": [
    {
     "name": "stdout",
     "output_type": "stream",
     "text": [
      "3\n",
      "3\n"
     ]
    }
   ],
   "source": [
    "# reading an array with/out slicing for less pythonTutor demo\n",
    "def longest_increasing_slicing(lst):\n",
    "    return longest_increasing_rec_slicing(lst, 0)\n",
    "def longest_increasing_rec_slicing(lst, last_used):\n",
    "    if len(lst) == 0:\n",
    "        return 0\n",
    "    with_next = 0\n",
    "    if lst[0] > last_used:\n",
    "        with_next = 1 + longest_increasing_rec_slicing(lst[1:], lst[0])\n",
    "    without_next = longest_increasing_rec_slicing(lst[1:], last_used)\n",
    "    return max(with_next, without_next)\n",
    "\n",
    "def longest_increasing_no_slicing(lst):\n",
    "    return longest_increasing_rec_no_slicing(lst, 0, 0)\n",
    "def longest_increasing_rec_no_slicing(lst, last_used, prog_index):\n",
    "    if len(lst)-prog_index == 0:\n",
    "        return 0\n",
    "    with_next = 0\n",
    "    if lst[prog_index] > last_used:\n",
    "        with_next = 1 + longest_increasing_rec_no_slicing(lst, lst[prog_index], prog_index + 1)\n",
    "    without_next = longest_increasing_rec_no_slicing(lst, last_used, prog_index + 1)\n",
    "    return max(with_next, without_next)\n",
    "\n",
    "a1 = [1, 9, 77,1, 4, 5]\n",
    "\n",
    "print(longest_increasing_slicing(a1))\n",
    "print(longest_increasing_no_slicing(a1))"
   ],
   "metadata": {
    "collapsed": false,
    "pycharm": {
     "name": "#%%\n"
    }
   }
  },
  {
   "cell_type": "code",
   "execution_count": 8,
   "outputs": [],
   "source": [
    "# Tip\n",
    "def just_run_rec(n):\n",
    "    if n==0:\n",
    "        return\n",
    "    return just_run_rec(n-1)\n",
    "\n",
    "just_run_rec(100)"
   ],
   "metadata": {
    "collapsed": false,
    "pycharm": {
     "name": "#%%\n"
    }
   }
  }
 ],
 "metadata": {
  "kernelspec": {
   "name": "ipython-7.18.1-py38h5ca1d4c_0",
   "language": "python",
   "display_name": "ipython-7.18.1-py38h5ca1d4c_0"
  },
  "language_info": {
   "codemirror_mode": {
    "name": "ipython",
    "version": 2
   },
   "file_extension": ".py",
   "mimetype": "text/x-python",
   "name": "python",
   "nbconvert_exporter": "python",
   "pygments_lexer": "ipython2",
   "version": "2.7.6"
  }
 },
 "nbformat": 4,
 "nbformat_minor": 0
}