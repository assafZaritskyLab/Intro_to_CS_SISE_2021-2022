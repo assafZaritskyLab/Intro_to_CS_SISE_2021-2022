{
 "cells": [
  {
   "cell_type": "code",
   "execution_count": 1,
   "metadata": {
    "collapsed": true,
    "pycharm": {
     "is_executing": false
    }
   },
   "outputs": [],
   "source": [
    "import numpy as np\n",
    "import cv2\n",
    "\n",
    "\n",
    "circle_ker_3x3 = np.array([\n",
    "    [0,   255,    0],\n",
    "    [255, 255, 255],\n",
    "    [0,   255,   0]\n",
    "], np.uint8)\n",
    "rtriangle_ker_3x3 = np.array([\n",
    "    [0, 255, 0],\n",
    "    [0, 255, 255],\n",
    "    [0, 0, 0]\n",
    "], np.uint8)\n",
    "ltriangle_ker_3x3 = np.array([\n",
    "    [0, 255, 0],\n",
    "    [255, 255, 0],\n",
    "    [0, 0, 0]\n",
    "], np.uint8)\n",
    "square_ker_3x3 = np.array([\n",
    "    [255, 255, 255],\n",
    "    [255, 255, 255],\n",
    "    [255, 255, 255]\n",
    "], np.uint8)\n",
    "v_line_ker_3x3 = np.array([\n",
    "    [0, 255, 0],\n",
    "    [0, 255, 0],\n",
    "    [0, 255, 0]\n",
    "], np.uint8)\n",
    "\n",
    "h_line_ker_3x3 = np.array([\n",
    "    [0, 0, 0],\n",
    "    [255, 255, 255],\n",
    "    [0, 0, 0]\n",
    "], np.uint8)\n",
    "\n",
    "h_line_ker_10x10 = np.array([\n",
    "    [0, 0, 0, 0, 0, 0, 0, 0, 0, 0],\n",
    "    [255, 255, 255, 255, 255, 255, 255, 255, 255, 255],\n",
    "    [0, 0, 0, 0, 0, 0, 0, 0, 0, 0]\n",
    "], np.uint8)"
   ]
  },
  {
   "cell_type": "code",
   "execution_count": null,
   "outputs": [],
   "source": [
    "\"\"\"\n",
    " creating a two cell illustration\n",
    "\"\"\"\n",
    "# two_cells = np.zeros((100,100), np.uint8)\n",
    "# cellular_foreground = 250\n",
    "# two_cells[3:30, 2:40] = cellular_foreground\n",
    "# two_cells[50:80, 42:72] = cellular_foreground\n",
    "# two_cells[30:53, 37:42] = cellular_foreground\n",
    "# cv2.imshow(\"img\", two_cells)\n",
    "# cv2.imwrite(\"two_connected_cells.jpg\", two_cells)"
   ],
   "metadata": {
    "collapsed": false,
    "pycharm": {
     "name": "#%%\n"
    }
   }
  },
  {
   "cell_type": "code",
   "execution_count": null,
   "outputs": [],
   "source": [
    "\"\"\"\n",
    "creating a bad text scan\n",
    "\"\"\"\n",
    "# img = cv2.imread('SampleImages/Scan1.jpeg', 0)\n",
    "# cv2.imshow('img', img)\n",
    "# kernel = np.ones((3,3),np.uint8)\n",
    "# erosion = cv2.erode(img, kernel, iterations=1)\n",
    "# cv2.imwrite('SampleImages/Scan1_eroded.jpg', erosion)"
   ],
   "metadata": {
    "collapsed": false,
    "pycharm": {
     "name": "#%%\n"
    }
   }
  },
  {
   "cell_type": "code",
   "execution_count": 2,
   "outputs": [
    {
     "data": {
      "text/plain": "27"
     },
     "metadata": {},
     "output_type": "execute_result",
     "execution_count": 2
    }
   ],
   "source": [
    "# fixing the bad text scan\n",
    "bad_txt = cv2.imread('SampleImages/Scan1_eroded.jpg', 0)\n",
    "dilation_kernel = circle_ker_3x3\n",
    "fixed_text = cv2.dilate(bad_txt, dilation_kernel, iterations=1)\n",
    "cv2.imshow(\"original\", bad_txt)\n",
    "cv2.imshow(\"fixed text\", fixed_text)\n",
    "cv2.waitKey(0)"
   ],
   "metadata": {
    "collapsed": false,
    "pycharm": {
     "name": "#%%\n",
     "is_executing": false
    }
   }
  },
  {
   "cell_type": "code",
   "execution_count": 1,
   "outputs": [
    {
     "ename": "NameError",
     "evalue": "name 'cv2' is not defined",
     "output_type": "error",
     "traceback": [
      "\u001B[1;31m---------------------------------------------------------------------------\u001B[0m",
      "\u001B[1;31mNameError\u001B[0m                                 Traceback (most recent call last)",
      "\u001B[1;32m<ipython-input-1-0e3d287e33e4>\u001B[0m in \u001B[0;36m<module>\u001B[1;34m\u001B[0m\n\u001B[0;32m      1\u001B[0m \u001B[1;31m# removing the redundant line between fake cells\u001B[0m\u001B[1;33m\u001B[0m\u001B[1;33m\u001B[0m\u001B[1;33m\u001B[0m\u001B[0m\n\u001B[1;32m----> 2\u001B[1;33m \u001B[0mtwo_cells_img\u001B[0m \u001B[1;33m=\u001B[0m \u001B[0mcv2\u001B[0m\u001B[1;33m.\u001B[0m\u001B[0mimread\u001B[0m\u001B[1;33m(\u001B[0m\u001B[1;34m'SampleImages/two_connected_cells.jpg'\u001B[0m\u001B[1;33m,\u001B[0m \u001B[1;36m0\u001B[0m\u001B[1;33m)\u001B[0m\u001B[1;33m\u001B[0m\u001B[1;33m\u001B[0m\u001B[0m\n\u001B[0m\u001B[0;32m      3\u001B[0m \u001B[0merosion_kernel\u001B[0m \u001B[1;33m=\u001B[0m \u001B[0mh_line_ker_10x10\u001B[0m\u001B[1;33m\u001B[0m\u001B[1;33m\u001B[0m\u001B[0m\n\u001B[0;32m      4\u001B[0m \u001B[0mfixed_img\u001B[0m \u001B[1;33m=\u001B[0m \u001B[0mcv2\u001B[0m\u001B[1;33m.\u001B[0m\u001B[0merode\u001B[0m\u001B[1;33m(\u001B[0m\u001B[0mtwo_cells_img\u001B[0m\u001B[1;33m,\u001B[0m \u001B[0merosion_kernel\u001B[0m\u001B[1;33m,\u001B[0m \u001B[0miterations\u001B[0m\u001B[1;33m=\u001B[0m\u001B[1;36m1\u001B[0m\u001B[1;33m)\u001B[0m\u001B[1;33m\u001B[0m\u001B[1;33m\u001B[0m\u001B[0m\n\u001B[0;32m      5\u001B[0m \u001B[0mcv2\u001B[0m\u001B[1;33m.\u001B[0m\u001B[0mimshow\u001B[0m\u001B[1;33m(\u001B[0m\u001B[1;34m\"original\"\u001B[0m\u001B[1;33m,\u001B[0m \u001B[0mtwo_cells_img\u001B[0m\u001B[1;33m)\u001B[0m\u001B[1;33m\u001B[0m\u001B[1;33m\u001B[0m\u001B[0m\n",
      "\u001B[1;31mNameError\u001B[0m: name 'cv2' is not defined"
     ]
    }
   ],
   "source": [
    "# removing the redundant line between fake cells\n",
    "two_cells_img = cv2.imread('SampleImages/two_connected_cells.jpg', 0)\n",
    "erosion_kernel = h_line_ker_10x10\n",
    "fixed_img = cv2.erode(two_cells_img, erosion_kernel, iterations=1)\n",
    "cv2.imshow(\"original\", two_cells_img)\n",
    "cv2.imshow(\"fixed\", fixed_img)\n",
    "cv2.waitKey(0)"
   ],
   "metadata": {
    "collapsed": false,
    "pycharm": {
     "name": "#%%\n"
    }
   }
  },
  {
   "cell_type": "code",
   "execution_count": null,
   "outputs": [],
   "source": [
    "# real cells dilation\n",
    "real_cells = cv2.imread(\"SampleImages/cells.jpg\", 0)\n",
    "dilation_kernel = cv2.getStructuringElement(cv2.MORPH_ELLIPSE,(5,5))\n",
    "fixed_img = cv2.dilate(real_cells, dilation_kernel, iterations=1)\n",
    "cv2.imshow(\"original\", real_cells)\n",
    "cv2.imshow(\"fixed\", fixed_img)\n",
    "cv2.waitKey(0)\n",
    "# cv2.imwrite(\"SampleImages/RESULTS/org.jpg\", real_cells)\n",
    "# cv2.imwrite(\"SampleImages/RESULTS/fixed.jpg\", fixed_img)"
   ],
   "metadata": {
    "collapsed": false,
    "pycharm": {
     "name": "#%%\n"
    }
   }
  },
  {
   "cell_type": "code",
   "execution_count": null,
   "outputs": [],
   "source": [
    "# removing noise, opening\n",
    "img = cv2.imread(\"SampleImages/cells.jpg\", 0)\n",
    "kernel_size = (5,5)\n",
    "kernel = cv2.getStructuringElement(cv2.MORPH_ELLIPSE, kernel_size)\n",
    "iterations = range(3)\n",
    "fixed_img = np.copy(img)\n",
    "for iter_ in iterations:\n",
    "    fixed_img = cv2.morphologyEx(fixed_img, cv2.MORPH_OPEN, kernel)\n",
    "cv2.imshow(\"original\", img)\n",
    "cv2.imshow(\"fixed\", fixed_img)\n",
    "cv2.waitKey(0)\n",
    "# cv2.imwrite(\"SampleImages/RESULTS/org.jpg\", img)\n",
    "# cv2.imwrite(\"SampleImages/RESULTS/fixed.jpg\", fixed_img)"
   ],
   "metadata": {
    "collapsed": false,
    "pycharm": {
     "name": "#%%\n"
    }
   }
  },
  {
   "cell_type": "code",
   "execution_count": null,
   "outputs": [],
   "source": [
    "# closing\n",
    "img = cv2.imread(\"SampleImages/cells.jpg\", 0)\n",
    "kernel_size = (5,5)\n",
    "kernel = cv2.getStructuringElement(cv2.MORPH_ELLIPSE, kernel_size)\n",
    "iterations = range(3)\n",
    "fixed_img = np.copy(img)\n",
    "for iter_ in iterations:\n",
    "    fixed_img = cv2.morphologyEx(fixed_img, cv2.MORPH_CLOSE, kernel)\n",
    "cv2.imshow(\"original\", img)\n",
    "cv2.imshow(\"fixed\", fixed_img)\n",
    "cv2.waitKey(0)\n",
    "# cv2.imwrite(\"SampleImages/RESULTS/org.jpg\", img)\n",
    "# cv2.imwrite(\"SampleImages/RESULTS/fixed.jpg\", fixed_img)"
   ],
   "metadata": {
    "collapsed": false,
    "pycharm": {
     "name": "#%%\n"
    }
   }
  },
  {
   "cell_type": "code",
   "execution_count": null,
   "outputs": [],
   "source": [
    "# get the cells contour\n",
    "img = cv2.imread(\"SampleImages/cells.jpg\", 0)\n",
    "kernel_size = (3,3)\n",
    "kernel = cv2.getStructuringElement(cv2.MORPH_ELLIPSE, kernel_size)\n",
    "fixed_img = np.copy(img)\n",
    "fixed_img = cv2.morphologyEx(fixed_img, cv2.MORPH_CLOSE, kernel)\n",
    "fixed_img = img - fixed_img\n",
    "cv2.imshow(\"original\", img)\n",
    "cv2.imshow(\"fixed\", fixed_img)\n",
    "cv2.waitKey(0)\n",
    "# cv2.imwrite(\"SampleImages/RESULTS/org.jpg\", img)\n",
    "# cv2.imwrite(\"SampleImages/RESULTS/fixed.jpg\", fixed_img)"
   ],
   "metadata": {
    "collapsed": false,
    "pycharm": {
     "name": "#%%\n"
    }
   }
  }
 ],
 "metadata": {
  "kernelspec": {
   "display_name": "Python 3",
   "language": "python",
   "name": "python3"
  },
  "language_info": {
   "codemirror_mode": {
    "name": "ipython",
    "version": 2
   },
   "file_extension": ".py",
   "mimetype": "text/x-python",
   "name": "python",
   "nbconvert_exporter": "python",
   "pygments_lexer": "ipython2",
   "version": "2.7.6"
  }
 },
 "nbformat": 4,
 "nbformat_minor": 0
}